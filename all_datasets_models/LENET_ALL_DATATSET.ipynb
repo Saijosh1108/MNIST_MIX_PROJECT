{
  "nbformat": 4,
  "nbformat_minor": 0,
  "metadata": {
    "colab": {
      "provenance": [],
      "gpuType": "T4"
    },
    "kernelspec": {
      "name": "python3",
      "display_name": "Python 3"
    },
    "language_info": {
      "name": "python"
    },
    "accelerator": "GPU"
  },
  "cells": [
    {
      "cell_type": "code",
      "execution_count": null,
      "metadata": {
        "colab": {
          "base_uri": "https://localhost:8080/"
        },
        "id": "ScKaNJXsnkC9",
        "outputId": "5621c57c-3f03-49dd-fba5-6f41cde0b604"
      },
      "outputs": [
        {
          "output_type": "stream",
          "name": "stdout",
          "text": [
            "Mounted at /content/drive\n"
          ]
        }
      ],
      "source": [
        "from google.colab import drive\n",
        "drive.mount('/content/drive')"
      ]
    },
    {
      "cell_type": "code",
      "source": [
        "# Importing Libraries\n",
        "from tensorflow import keras\n",
        "from keras.models import Sequential\n",
        "from keras.callbacks import ModelCheckpoint, EarlyStopping\n",
        "from keras import backend as K\n",
        "from keras.models import Model\n",
        "from keras.optimizers import Adam\n",
        "import numpy as np\n",
        "from sklearn import metrics\n",
        "import matplotlib.pyplot as plt\n",
        "%matplotlib inline\n",
        "from keras.utils import plot_model, model_to_dot\n",
        "from keras.layers import Dense, Conv2D, Flatten, Dropout, Activation, MaxPooling2D, BatchNormalization"
      ],
      "metadata": {
        "id": "bP5tMI-Lnsvu"
      },
      "execution_count": null,
      "outputs": []
    },
    {
      "cell_type": "code",
      "source": [
        "keras.backend.set_image_data_format('channels_last')"
      ],
      "metadata": {
        "id": "7qJeozoonvPq"
      },
      "execution_count": null,
      "outputs": []
    },
    {
      "cell_type": "code",
      "source": [
        "def evaluate(predicted_outcome, expected_outcome):\n",
        "    from sklearn import metrics\n",
        "    f1_score = metrics.f1_score(expected_outcome, predicted_outcome, average='weighted')\n",
        "    balanced_accuracy_score = metrics.balanced_accuracy_score(expected_outcome, predicted_outcome)\n",
        "    return f1_score, balanced_accuracy_score"
      ],
      "metadata": {
        "id": "GjD_-haInxm5"
      },
      "execution_count": null,
      "outputs": []
    },
    {
      "cell_type": "code",
      "source": [
        "# Data Preprocessing\n",
        "def load_dataset_with_processing(input_train_test_fn, num_classes=10):\n",
        "    data = np.load(input_train_test_fn)\n",
        "    X_train, X_test, y_train, y_test = data['X_train'], data['X_test'], data['y_train'], data['y_test']\n",
        "\n",
        "    # split validation set\n",
        "    from sklearn.model_selection import train_test_split\n",
        "    X_train, X_vali, y_train, y_vali = train_test_split(X_train, y_train, stratify=y_train, test_size=0.2)\n",
        "\n",
        "    X_train = np.array(X_train, dtype=\"float\") / 255.0\n",
        "    X_train = X_train.reshape(X_train.shape[0], 28, 28,1 )\n",
        "    print(X_train.shape)\n",
        "\n",
        "    X_vali = np.array(X_vali, dtype=\"float\") / 255.0\n",
        "    X_vali = X_vali.reshape(X_vali.shape[0], 28, 28,1 )\n",
        "    print(X_vali.shape)\n",
        "\n",
        "    X_test = np.array(X_test, dtype=\"float\") / 255.0\n",
        "    X_test = X_test.reshape(X_test.shape[0], 28, 28,1 )\n",
        "    print(X_test.shape)\n",
        "\n",
        "    y_train = keras.utils.to_categorical(y_train, num_classes)\n",
        "    y_vali = keras.utils.to_categorical(y_vali, num_classes)\n",
        "    y_test = keras.utils.to_categorical(y_test, num_classes)\n",
        "\n",
        "    return X_train, y_train, X_vali, y_vali, X_test, y_test"
      ],
      "metadata": {
        "id": "xWEbBZb8nxiG"
      },
      "execution_count": null,
      "outputs": []
    },
    {
      "cell_type": "code",
      "source": [
        "# Creating a data generator for real-time data augmentation\n",
        "def myGenerator(X_train, y_train, batch_size):\n",
        "    total_size = X_train.shape[0]\n",
        "\n",
        "    while True:\n",
        "        permutation = list(np.random.permutation(total_size))\n",
        "        for i in range(total_size//batch_size):\n",
        "            index = permutation[i * batch_size : (i + 1) * batch_size]\n",
        "            X_batch = X_train[index]\n",
        "            y_batch = y_train[index]\n",
        "\n",
        "            yield X_batch, y_batch"
      ],
      "metadata": {
        "id": "3vfaU4UrnxeW"
      },
      "execution_count": null,
      "outputs": []
    },
    {
      "cell_type": "code",
      "source": [
        "# Define LENET Model\n",
        "def build_model(input_shape, num_classes):\n",
        "    # initialize the model\n",
        "    model = Sequential()\n",
        "    model.add(Conv2D(20, (5, 5), padding=\"same\", input_shape=input_shape))\n",
        "    model.add(Activation(\"relu\"))\n",
        "    model.add(MaxPooling2D(pool_size=(2, 2), strides=(2, 2)))\n",
        "    # second set of CONV => RELU => POOL layers\n",
        "    model.add(Conv2D(50, (5, 5), padding=\"same\"))\n",
        "    model.add(Activation(\"relu\"))\n",
        "    model.add(MaxPooling2D(pool_size=(2, 2), strides=(2, 2)))\n",
        "    # first (and only) set of FC => RELU layers\n",
        "    model.add(Flatten())\n",
        "    model.add(Dense(500))\n",
        "    model.add(Activation(\"relu\"))\n",
        "\n",
        "    for layer in model.layers:\n",
        "        layer.trainable = False  # freeze the previous layers\n",
        "\n",
        "    X = model.output\n",
        "    # softmax classifier\n",
        "    predictions = Dense(10, activation='softmax')(X)\n",
        "    old_model = Model(inputs=model.input, outputs=predictions)\n",
        "\n",
        "    # load weights\n",
        "    old_model.load_weights('/content/drive/MyDrive/pretrained_mnist/lenet.hdf5')\n",
        "\n",
        "    X = model.output\n",
        "    # softmax classifier\n",
        "    predictions = Dense(num_classes, activation='softmax')(X)\n",
        "    new_model = Model(inputs=model.input, outputs=predictions)\n",
        "    new_model.summary()\n",
        "\n",
        "    return new_model\n",
        "\n",
        "input_shape = (28, 28, 1)\n",
        "num_classes = 100\n",
        "model = build_model(input_shape, num_classes)"
      ],
      "metadata": {
        "colab": {
          "base_uri": "https://localhost:8080/"
        },
        "id": "LBouqsNXnxa3",
        "outputId": "2622b63c-1017-43b1-b0a9-16c828f4681d"
      },
      "execution_count": null,
      "outputs": [
        {
          "output_type": "stream",
          "name": "stdout",
          "text": [
            "Model: \"model_1\"\n",
            "_________________________________________________________________\n",
            " Layer (type)                Output Shape              Param #   \n",
            "=================================================================\n",
            " conv2d_input (InputLayer)   [(None, 28, 28, 1)]       0         \n",
            "                                                                 \n",
            " conv2d (Conv2D)             (None, 28, 28, 20)        520       \n",
            "                                                                 \n",
            " activation (Activation)     (None, 28, 28, 20)        0         \n",
            "                                                                 \n",
            " max_pooling2d (MaxPooling2  (None, 14, 14, 20)        0         \n",
            " D)                                                              \n",
            "                                                                 \n",
            " conv2d_1 (Conv2D)           (None, 14, 14, 50)        25050     \n",
            "                                                                 \n",
            " activation_1 (Activation)   (None, 14, 14, 50)        0         \n",
            "                                                                 \n",
            " max_pooling2d_1 (MaxPoolin  (None, 7, 7, 50)          0         \n",
            " g2D)                                                            \n",
            "                                                                 \n",
            " flatten (Flatten)           (None, 2450)              0         \n",
            "                                                                 \n",
            " dense (Dense)               (None, 500)               1225500   \n",
            "                                                                 \n",
            " activation_2 (Activation)   (None, 500)               0         \n",
            "                                                                 \n",
            " dense_2 (Dense)             (None, 100)               50100     \n",
            "                                                                 \n",
            "=================================================================\n",
            "Total params: 1301170 (4.96 MB)\n",
            "Trainable params: 50100 (195.70 KB)\n",
            "Non-trainable params: 1251070 (4.77 MB)\n",
            "_________________________________________________________________\n"
          ]
        }
      ]
    },
    {
      "cell_type": "code",
      "source": [
        "def train_fn(X_train, y_train, X_vali, y_vali, input_shape, num_classes, loss, optimizer, metrics, checkpoint_dir, batch_size, epochs):\n",
        "    import os\n",
        "    if os.path.exists(checkpoint_dir) is False:\n",
        "        os.makedirs(checkpoint_dir)\n",
        "\n",
        "    model = build_model(input_shape, num_classes)\n",
        "\n",
        "    checkpoint = ModelCheckpoint(checkpoint_dir + 'best_lenet.hdf5', monitor='val_accuracy', verbose=1, save_best_only=True, mode='auto')\n",
        "    es = EarlyStopping(monitor='val_loss', mode='min', verbose=1, patience=30)\n",
        "\n",
        "    model.compile(loss=loss,\n",
        "                  optimizer=optimizer,\n",
        "                  metrics=metrics)\n",
        "\n",
        "    datagen = myGenerator(X_train, y_train, batch_size)\n",
        "\n",
        "    history = model.fit(datagen,\n",
        "                        steps_per_epoch = len(X_train) // batch_size,\n",
        "                        epochs=epochs,\n",
        "                        callbacks=[es, checkpoint],\n",
        "                        verbose=2,\n",
        "                        validation_data=(X_vali, y_vali))\n",
        "\n",
        "    plt.plot(history.history['loss'], label='train')\n",
        "    plt.plot(history.history['val_loss'], label='validation')\n",
        "    plt.legend()\n",
        "    plt.show()\n",
        "\n",
        "    return model"
      ],
      "metadata": {
        "id": "F-gpKytmnxW-"
      },
      "execution_count": null,
      "outputs": []
    },
    {
      "cell_type": "code",
      "source": [
        "def test_fn(X_test, y_test, input_shape, num_classes, loss, optimizer, metrics, pretrained_weights):\n",
        "    model = build_model(input_shape, num_classes)\n",
        "\n",
        "    model.compile(loss=loss,\n",
        "                  optimizer=optimizer,\n",
        "                  metrics=metrics)\n",
        "\n",
        "    # load weights\n",
        "    model.load_weights(pretrained_weights)\n",
        "\n",
        "    score = model.evaluate(X_test, y_test, verbose=0)\n",
        "\n",
        "    testPredict = model.predict(X_test)\n",
        "    y_test_tmp = np.argmax(y_test, axis=1)\n",
        "    y_pred_tmp = np.argmax(testPredict, axis=1)\n",
        "    f1_score, balanced_accuracy_score = evaluate(y_pred_tmp, y_test_tmp)\n",
        "\n",
        "    return score[1], f1_score, balanced_accuracy_score  # return accuracies"
      ],
      "metadata": {
        "id": "Rj3jH7w0nxT9"
      },
      "execution_count": null,
      "outputs": []
    },
    {
      "cell_type": "markdown",
      "source": [
        "Training LENET on individual datasets\n"
      ],
      "metadata": {
        "id": "CQMj-CEvY3j0"
      }
    },
    {
      "cell_type": "code",
      "source": [
        "# Training on ARDIS Dataset\n",
        "img_rows, img_cols = 28 , 28\n",
        "input_shape = (img_rows, img_cols, 1)\n",
        "num_classes = 100\n",
        "loss = 'categorical_crossentropy'\n",
        "optimizer = Adam(learning_rate=0.01, clipnorm=0.001)\n",
        "metrics = ['accuracy']\n",
        "batch_size = 128\n",
        "epochs = 10\n",
        "\n",
        "checkpoint_dir = './ADRIS_LeNet_MNIST_MIX/'\n",
        "input_train_test_fn = '/content/drive/MyDrive/mnist_mix_all/ARDIS_train_test.npz'\n",
        "\n",
        "# load data\n",
        "X_train, y_train, X_vali, y_vali, X_test, y_test = load_dataset_with_processing(input_train_test_fn, num_classes=100)\n",
        "\n",
        "train_fn(X_train, y_train, X_vali, y_vali, input_shape, num_classes, loss, optimizer, metrics, checkpoint_dir, batch_size, epochs)"
      ],
      "metadata": {
        "colab": {
          "base_uri": "https://localhost:8080/",
          "height": 1000
        },
        "id": "dULsMLY5n-SH",
        "outputId": "78c2a4d6-3901-45a3-b4f2-ee5d8cb62162"
      },
      "execution_count": null,
      "outputs": [
        {
          "output_type": "stream",
          "name": "stdout",
          "text": [
            "(5280, 28, 28, 1)\n",
            "(1320, 28, 28, 1)\n",
            "(1000, 28, 28, 1)\n",
            "Model: \"model_3\"\n",
            "_________________________________________________________________\n",
            " Layer (type)                Output Shape              Param #   \n",
            "=================================================================\n",
            " conv2d_2_input (InputLayer  [(None, 28, 28, 1)]       0         \n",
            " )                                                               \n",
            "                                                                 \n",
            " conv2d_2 (Conv2D)           (None, 28, 28, 20)        520       \n",
            "                                                                 \n",
            " activation_3 (Activation)   (None, 28, 28, 20)        0         \n",
            "                                                                 \n",
            " max_pooling2d_2 (MaxPoolin  (None, 14, 14, 20)        0         \n",
            " g2D)                                                            \n",
            "                                                                 \n",
            " conv2d_3 (Conv2D)           (None, 14, 14, 50)        25050     \n",
            "                                                                 \n",
            " activation_4 (Activation)   (None, 14, 14, 50)        0         \n",
            "                                                                 \n",
            " max_pooling2d_3 (MaxPoolin  (None, 7, 7, 50)          0         \n",
            " g2D)                                                            \n",
            "                                                                 \n",
            " flatten_1 (Flatten)         (None, 2450)              0         \n",
            "                                                                 \n",
            " dense_3 (Dense)             (None, 500)               1225500   \n",
            "                                                                 \n",
            " activation_5 (Activation)   (None, 500)               0         \n",
            "                                                                 \n",
            " dense_5 (Dense)             (None, 100)               50100     \n",
            "                                                                 \n",
            "=================================================================\n",
            "Total params: 1301170 (4.96 MB)\n",
            "Trainable params: 50100 (195.70 KB)\n",
            "Non-trainable params: 1251070 (4.77 MB)\n",
            "_________________________________________________________________\n",
            "Epoch 1/10\n",
            "\n",
            "Epoch 1: val_accuracy improved from -inf to 0.97955, saving model to ./ADRIS_LeNet_MNIST_MIX/best_lenet.hdf5\n",
            "41/41 - 4s - loss: 0.5488 - accuracy: 0.8986 - val_loss: 0.0671 - val_accuracy: 0.9795 - 4s/epoch - 95ms/step\n",
            "Epoch 2/10\n"
          ]
        },
        {
          "output_type": "stream",
          "name": "stderr",
          "text": [
            "/usr/local/lib/python3.10/dist-packages/keras/src/engine/training.py:3103: UserWarning: You are saving your model as an HDF5 file via `model.save()`. This file format is considered legacy. We recommend using instead the native Keras format, e.g. `model.save('my_model.keras')`.\n",
            "  saving_api.save_model(\n"
          ]
        },
        {
          "output_type": "stream",
          "name": "stdout",
          "text": [
            "\n",
            "Epoch 2: val_accuracy did not improve from 0.97955\n",
            "41/41 - 0s - loss: 0.0403 - accuracy: 0.9880 - val_loss: 0.1045 - val_accuracy: 0.9788 - 259ms/epoch - 6ms/step\n",
            "Epoch 3/10\n",
            "\n",
            "Epoch 3: val_accuracy improved from 0.97955 to 0.98182, saving model to ./ADRIS_LeNet_MNIST_MIX/best_lenet.hdf5\n",
            "41/41 - 0s - loss: 0.0367 - accuracy: 0.9889 - val_loss: 0.0708 - val_accuracy: 0.9818 - 349ms/epoch - 9ms/step\n",
            "Epoch 4/10\n",
            "\n",
            "Epoch 4: val_accuracy did not improve from 0.98182\n",
            "41/41 - 0s - loss: 0.0166 - accuracy: 0.9950 - val_loss: 0.0998 - val_accuracy: 0.9788 - 387ms/epoch - 9ms/step\n",
            "Epoch 5/10\n",
            "\n",
            "Epoch 5: val_accuracy improved from 0.98182 to 0.98485, saving model to ./ADRIS_LeNet_MNIST_MIX/best_lenet.hdf5\n",
            "41/41 - 0s - loss: 0.0174 - accuracy: 0.9964 - val_loss: 0.0557 - val_accuracy: 0.9848 - 404ms/epoch - 10ms/step\n",
            "Epoch 6/10\n",
            "\n",
            "Epoch 6: val_accuracy did not improve from 0.98485\n",
            "41/41 - 0s - loss: 0.0136 - accuracy: 0.9956 - val_loss: 0.1018 - val_accuracy: 0.9826 - 350ms/epoch - 9ms/step\n",
            "Epoch 7/10\n",
            "\n",
            "Epoch 7: val_accuracy improved from 0.98485 to 0.98561, saving model to ./ADRIS_LeNet_MNIST_MIX/best_lenet.hdf5\n",
            "41/41 - 1s - loss: 0.0038 - accuracy: 0.9990 - val_loss: 0.0590 - val_accuracy: 0.9856 - 596ms/epoch - 15ms/step\n",
            "Epoch 8/10\n",
            "\n",
            "Epoch 8: val_accuracy did not improve from 0.98561\n",
            "41/41 - 0s - loss: 0.0059 - accuracy: 0.9977 - val_loss: 0.0950 - val_accuracy: 0.9841 - 405ms/epoch - 10ms/step\n",
            "Epoch 9/10\n",
            "\n",
            "Epoch 9: val_accuracy did not improve from 0.98561\n",
            "41/41 - 1s - loss: 0.0072 - accuracy: 0.9985 - val_loss: 0.1088 - val_accuracy: 0.9826 - 547ms/epoch - 13ms/step\n",
            "Epoch 10/10\n",
            "\n",
            "Epoch 10: val_accuracy improved from 0.98561 to 0.98636, saving model to ./ADRIS_LeNet_MNIST_MIX/best_lenet.hdf5\n",
            "41/41 - 0s - loss: 0.0033 - accuracy: 0.9990 - val_loss: 0.0696 - val_accuracy: 0.9864 - 389ms/epoch - 9ms/step\n"
          ]
        },
        {
          "output_type": "display_data",
          "data": {
            "text/plain": [
              "<Figure size 640x480 with 1 Axes>"
            ],
            "image/png": "[encoded data removed]"
          },
          "metadata": {}
        },
        {
          "output_type": "execute_result",
          "data": {
            "text/plain": [
              "<keras.src.engine.functional.Functional at 0x780d800f0c40>"
            ]
          },
          "metadata": {},
          "execution_count": 11
        }
      ]
    },
    {
      "cell_type": "code",
      "source": [
        "# Testing the saved model on ADRIS test data\n",
        "pretrained_weights = '/content/ADRIS_LeNet_MNIST_MIX/best_lenet.hdf5'\n",
        "accuracies = test_fn(X_test, y_test, input_shape, num_classes, loss, optimizer, metrics, pretrained_weights)\n",
        "print('Accuracy: ', accuracies[0])\n",
        "print('Weighted F1: ', accuracies[1])\n",
        "print('Balanced Accuracy: ', accuracies[2])"
      ],
      "metadata": {
        "colab": {
          "base_uri": "https://localhost:8080/"
        },
        "id": "Bkecl-QQn-CE",
        "outputId": "09c1250b-ab5a-46a4-c0b8-e0c41dc4d012"
      },
      "execution_count": null,
      "outputs": [
        {
          "output_type": "stream",
          "name": "stdout",
          "text": [
            "Model: \"model_9\"\n",
            "_________________________________________________________________\n",
            " Layer (type)                Output Shape              Param #   \n",
            "=================================================================\n",
            " conv2d_8_input (InputLayer  [(None, 28, 28, 1)]       0         \n",
            " )                                                               \n",
            "                                                                 \n",
            " conv2d_8 (Conv2D)           (None, 28, 28, 20)        520       \n",
            "                                                                 \n",
            " activation_12 (Activation)  (None, 28, 28, 20)        0         \n",
            "                                                                 \n",
            " max_pooling2d_8 (MaxPoolin  (None, 14, 14, 20)        0         \n",
            " g2D)                                                            \n",
            "                                                                 \n",
            " conv2d_9 (Conv2D)           (None, 14, 14, 50)        25050     \n",
            "                                                                 \n",
            " activation_13 (Activation)  (None, 14, 14, 50)        0         \n",
            "                                                                 \n",
            " max_pooling2d_9 (MaxPoolin  (None, 7, 7, 50)          0         \n",
            " g2D)                                                            \n",
            "                                                                 \n",
            " flatten_4 (Flatten)         (None, 2450)              0         \n",
            "                                                                 \n",
            " dense_12 (Dense)            (None, 500)               1225500   \n",
            "                                                                 \n",
            " activation_14 (Activation)  (None, 500)               0         \n",
            "                                                                 \n",
            " dense_14 (Dense)            (None, 100)               50100     \n",
            "                                                                 \n",
            "=================================================================\n",
            "Total params: 1301170 (4.96 MB)\n",
            "Trainable params: 50100 (195.70 KB)\n",
            "Non-trainable params: 1251070 (4.77 MB)\n",
            "_________________________________________________________________\n",
            "32/32 [==============================] - 1s 7ms/step\n",
            "Accuracy:  0.9869999885559082\n",
            "Weighted F1:  0.9869665393913596\n",
            "Balanced Accuracy:  0.9869999999999999\n"
          ]
        }
      ]
    },
    {
      "cell_type": "code",
      "source": [
        "# Training on CMATTERDB 3.3.1 Dataset\n",
        "img_rows, img_cols = 28 , 28\n",
        "input_shape = (img_rows, img_cols, 1)\n",
        "num_classes = 100\n",
        "loss = 'categorical_crossentropy'\n",
        "optimizer = Adam(learning_rate=0.01, clipnorm=0.001)\n",
        "metrics = ['accuracy']\n",
        "batch_size = 128\n",
        "epochs = 10\n",
        "\n",
        "checkpoint_dir = './ARABIC_LeNet_MNIST_MIX/'\n",
        "input_train_test_fn = '/content/drive/MyDrive/mnist_mix_all/Arabic_train_test.npz'\n",
        "\n",
        "# load data\n",
        "X_train, y_train, X_vali, y_vali, X_test, y_test = load_dataset_with_processing(input_train_test_fn, num_classes=100)\n",
        "\n",
        "train_fn(X_train, y_train, X_vali, y_vali, input_shape, num_classes, loss, optimizer, metrics, checkpoint_dir, batch_size, epochs)"
      ],
      "metadata": {
        "colab": {
          "base_uri": "https://localhost:8080/",
          "height": 1000
        },
        "id": "9MI9qdvjpM3u",
        "outputId": "679735be-a038-4af2-b8b3-5fe37541261e"
      },
      "execution_count": null,
      "outputs": [
        {
          "output_type": "stream",
          "name": "stdout",
          "text": [
            "(1920, 28, 28, 1)\n",
            "(480, 28, 28, 1)\n",
            "(600, 28, 28, 1)\n",
            "Model: \"model_11\"\n",
            "_________________________________________________________________\n",
            " Layer (type)                Output Shape              Param #   \n",
            "=================================================================\n",
            " conv2d_10_input (InputLaye  [(None, 28, 28, 1)]       0         \n",
            " r)                                                              \n",
            "                                                                 \n",
            " conv2d_10 (Conv2D)          (None, 28, 28, 20)        520       \n",
            "                                                                 \n",
            " activation_15 (Activation)  (None, 28, 28, 20)        0         \n",
            "                                                                 \n",
            " max_pooling2d_10 (MaxPooli  (None, 14, 14, 20)        0         \n",
            " ng2D)                                                           \n",
            "                                                                 \n",
            " conv2d_11 (Conv2D)          (None, 14, 14, 50)        25050     \n",
            "                                                                 \n",
            " activation_16 (Activation)  (None, 14, 14, 50)        0         \n",
            "                                                                 \n",
            " max_pooling2d_11 (MaxPooli  (None, 7, 7, 50)          0         \n",
            " ng2D)                                                           \n",
            "                                                                 \n",
            " flatten_5 (Flatten)         (None, 2450)              0         \n",
            "                                                                 \n",
            " dense_15 (Dense)            (None, 500)               1225500   \n",
            "                                                                 \n",
            " activation_17 (Activation)  (None, 500)               0         \n",
            "                                                                 \n",
            " dense_17 (Dense)            (None, 100)               50100     \n",
            "                                                                 \n",
            "=================================================================\n",
            "Total params: 1301170 (4.96 MB)\n",
            "Trainable params: 50100 (195.70 KB)\n",
            "Non-trainable params: 1251070 (4.77 MB)\n",
            "_________________________________________________________________\n",
            "Epoch 1/10\n",
            "\n",
            "Epoch 1: val_accuracy improved from -inf to 0.91667, saving model to ./ARABIC_LeNet_MNIST_MIX/best_lenet.hdf5\n",
            "15/15 - 1s - loss: 2.0272 - accuracy: 0.6630 - val_loss: 0.3171 - val_accuracy: 0.9167 - 904ms/epoch - 60ms/step\n",
            "Epoch 2/10\n",
            "\n",
            "Epoch 2: val_accuracy improved from 0.91667 to 0.94375, saving model to ./ARABIC_LeNet_MNIST_MIX/best_lenet.hdf5\n"
          ]
        },
        {
          "output_type": "stream",
          "name": "stderr",
          "text": [
            "/usr/local/lib/python3.10/dist-packages/keras/src/engine/training.py:3103: UserWarning: You are saving your model as an HDF5 file via `model.save()`. This file format is considered legacy. We recommend using instead the native Keras format, e.g. `model.save('my_model.keras')`.\n",
            "  saving_api.save_model(\n"
          ]
        },
        {
          "output_type": "stream",
          "name": "stdout",
          "text": [
            "15/15 - 0s - loss: 0.3026 - accuracy: 0.9271 - val_loss: 0.2222 - val_accuracy: 0.9438 - 200ms/epoch - 13ms/step\n",
            "Epoch 3/10\n",
            "\n",
            "Epoch 3: val_accuracy did not improve from 0.94375\n",
            "15/15 - 0s - loss: 0.1541 - accuracy: 0.9573 - val_loss: 0.2028 - val_accuracy: 0.9417 - 248ms/epoch - 17ms/step\n",
            "Epoch 4/10\n",
            "\n",
            "Epoch 4: val_accuracy improved from 0.94375 to 0.94583, saving model to ./ARABIC_LeNet_MNIST_MIX/best_lenet.hdf5\n",
            "15/15 - 0s - loss: 0.0771 - accuracy: 0.9724 - val_loss: 0.2344 - val_accuracy: 0.9458 - 301ms/epoch - 20ms/step\n",
            "Epoch 5/10\n",
            "\n",
            "Epoch 5: val_accuracy did not improve from 0.94583\n",
            "15/15 - 0s - loss: 0.0691 - accuracy: 0.9771 - val_loss: 0.2429 - val_accuracy: 0.9354 - 171ms/epoch - 11ms/step\n",
            "Epoch 6/10\n",
            "\n",
            "Epoch 6: val_accuracy did not improve from 0.94583\n",
            "15/15 - 0s - loss: 0.0636 - accuracy: 0.9766 - val_loss: 0.2462 - val_accuracy: 0.9458 - 155ms/epoch - 10ms/step\n",
            "Epoch 7/10\n",
            "\n",
            "Epoch 7: val_accuracy improved from 0.94583 to 0.95833, saving model to ./ARABIC_LeNet_MNIST_MIX/best_lenet.hdf5\n",
            "15/15 - 0s - loss: 0.0726 - accuracy: 0.9792 - val_loss: 0.1797 - val_accuracy: 0.9583 - 214ms/epoch - 14ms/step\n",
            "Epoch 8/10\n",
            "\n",
            "Epoch 8: val_accuracy did not improve from 0.95833\n",
            "15/15 - 0s - loss: 0.0480 - accuracy: 0.9828 - val_loss: 0.2335 - val_accuracy: 0.9583 - 257ms/epoch - 17ms/step\n",
            "Epoch 9/10\n",
            "\n",
            "Epoch 9: val_accuracy did not improve from 0.95833\n",
            "15/15 - 0s - loss: 0.0365 - accuracy: 0.9901 - val_loss: 0.1982 - val_accuracy: 0.9521 - 156ms/epoch - 10ms/step\n",
            "Epoch 10/10\n",
            "\n",
            "Epoch 10: val_accuracy did not improve from 0.95833\n",
            "15/15 - 0s - loss: 0.0490 - accuracy: 0.9818 - val_loss: 0.2037 - val_accuracy: 0.9583 - 151ms/epoch - 10ms/step\n"
          ]
        },
        {
          "output_type": "display_data",
          "data": {
            "text/plain": [
              "<Figure size 640x480 with 1 Axes>"
            ],
            "image/png": "[encoded data removed]"
          },
          "metadata": {}
        },
        {
          "output_type": "execute_result",
          "data": {
            "text/plain": [
              "<keras.src.engine.functional.Functional at 0x780cfa062140>"
            ]
          },
          "metadata": {},
          "execution_count": 15
        }
      ]
    },
    {
      "cell_type": "code",
      "source": [
        "# Testing the saved model on CMATTER 3.3.1 test data\n",
        "pretrained_weights = '/content/ARABIC_LeNet_MNIST_MIX/best_lenet.hdf5'\n",
        "accuracies = test_fn(X_test, y_test, input_shape, num_classes, loss, optimizer, metrics, pretrained_weights)\n",
        "print('Accuracy: ', accuracies[0])\n",
        "print('Weighted F1: ', accuracies[1])\n",
        "print('Balanced Accuracy: ', accuracies[2])"
      ],
      "metadata": {
        "colab": {
          "base_uri": "https://localhost:8080/"
        },
        "id": "w7glNq6kpM0F",
        "outputId": "c250c0ee-4404-4e5b-da7e-aca0d48811f5"
      },
      "execution_count": null,
      "outputs": [
        {
          "output_type": "stream",
          "name": "stdout",
          "text": [
            "Model: \"model_13\"\n",
            "_________________________________________________________________\n",
            " Layer (type)                Output Shape              Param #   \n",
            "=================================================================\n",
            " conv2d_12_input (InputLaye  [(None, 28, 28, 1)]       0         \n",
            " r)                                                              \n",
            "                                                                 \n",
            " conv2d_12 (Conv2D)          (None, 28, 28, 20)        520       \n",
            "                                                                 \n",
            " activation_18 (Activation)  (None, 28, 28, 20)        0         \n",
            "                                                                 \n",
            " max_pooling2d_12 (MaxPooli  (None, 14, 14, 20)        0         \n",
            " ng2D)                                                           \n",
            "                                                                 \n",
            " conv2d_13 (Conv2D)          (None, 14, 14, 50)        25050     \n",
            "                                                                 \n",
            " activation_19 (Activation)  (None, 14, 14, 50)        0         \n",
            "                                                                 \n",
            " max_pooling2d_13 (MaxPooli  (None, 7, 7, 50)          0         \n",
            " ng2D)                                                           \n",
            "                                                                 \n",
            " flatten_6 (Flatten)         (None, 2450)              0         \n",
            "                                                                 \n",
            " dense_18 (Dense)            (None, 500)               1225500   \n",
            "                                                                 \n",
            " activation_20 (Activation)  (None, 500)               0         \n",
            "                                                                 \n",
            " dense_20 (Dense)            (None, 100)               50100     \n",
            "                                                                 \n",
            "=================================================================\n",
            "Total params: 1301170 (4.96 MB)\n",
            "Trainable params: 50100 (195.70 KB)\n",
            "Non-trainable params: 1251070 (4.77 MB)\n",
            "_________________________________________________________________\n",
            "19/19 [==============================] - 0s 2ms/step\n",
            "Accuracy:  0.9566666483879089\n",
            "Weighted F1:  0.9563729161237645\n",
            "Balanced Accuracy:  0.9566666666666664\n"
          ]
        }
      ]
    },
    {
      "cell_type": "code",
      "source": [
        "# Training on BanglaLekha Isolated Dataset\n",
        "img_rows, img_cols = 28 , 28\n",
        "input_shape = (img_rows, img_cols, 1)\n",
        "num_classes = 100\n",
        "loss = 'categorical_crossentropy'\n",
        "optimizer = Adam(learning_rate=0.01, clipnorm=0.001)\n",
        "metrics = ['accuracy']\n",
        "batch_size = 128\n",
        "epochs = 10\n",
        "\n",
        "checkpoint_dir = './BANGLALEKHA_LeNet_MNIST_MIX/'\n",
        "input_train_test_fn = '/content/drive/MyDrive/mnist_mix_all/BanglaLekha_train_test.npz'\n",
        "\n",
        "# load data\n",
        "X_train, y_train, X_vali, y_vali, X_test, y_test = load_dataset_with_processing(input_train_test_fn, num_classes=100)\n",
        "\n",
        "train_fn(X_train, y_train, X_vali, y_vali, input_shape, num_classes, loss, optimizer, metrics, checkpoint_dir, batch_size, epochs)"
      ],
      "metadata": {
        "colab": {
          "base_uri": "https://localhost:8080/",
          "height": 1000
        },
        "id": "uZnnFIfEpMs_",
        "outputId": "51bac14c-5a98-427c-95c1-29a2ce5b4d5b"
      },
      "execution_count": null,
      "outputs": [
        {
          "output_type": "stream",
          "name": "stdout",
          "text": [
            "(12638, 28, 28, 1)\n",
            "(3160, 28, 28, 1)\n",
            "(3950, 28, 28, 1)\n",
            "Model: \"model_15\"\n",
            "_________________________________________________________________\n",
            " Layer (type)                Output Shape              Param #   \n",
            "=================================================================\n",
            " conv2d_14_input (InputLaye  [(None, 28, 28, 1)]       0         \n",
            " r)                                                              \n",
            "                                                                 \n",
            " conv2d_14 (Conv2D)          (None, 28, 28, 20)        520       \n",
            "                                                                 \n",
            " activation_21 (Activation)  (None, 28, 28, 20)        0         \n",
            "                                                                 \n",
            " max_pooling2d_14 (MaxPooli  (None, 14, 14, 20)        0         \n",
            " ng2D)                                                           \n",
            "                                                                 \n",
            " conv2d_15 (Conv2D)          (None, 14, 14, 50)        25050     \n",
            "                                                                 \n",
            " activation_22 (Activation)  (None, 14, 14, 50)        0         \n",
            "                                                                 \n",
            " max_pooling2d_15 (MaxPooli  (None, 7, 7, 50)          0         \n",
            " ng2D)                                                           \n",
            "                                                                 \n",
            " flatten_7 (Flatten)         (None, 2450)              0         \n",
            "                                                                 \n",
            " dense_21 (Dense)            (None, 500)               1225500   \n",
            "                                                                 \n",
            " activation_23 (Activation)  (None, 500)               0         \n",
            "                                                                 \n",
            " dense_23 (Dense)            (None, 100)               50100     \n",
            "                                                                 \n",
            "=================================================================\n",
            "Total params: 1301170 (4.96 MB)\n",
            "Trainable params: 50100 (195.70 KB)\n",
            "Non-trainable params: 1251070 (4.77 MB)\n",
            "_________________________________________________________________\n",
            "Epoch 1/10\n",
            "\n",
            "Epoch 1: val_accuracy improved from -inf to 0.92089, saving model to ./BANGLALEKHA_LeNet_MNIST_MIX/best_lenet.hdf5\n",
            "98/98 - 2s - loss: 0.7063 - accuracy: 0.8783 - val_loss: 0.4118 - val_accuracy: 0.9209 - 2s/epoch - 19ms/step\n",
            "Epoch 2/10\n"
          ]
        },
        {
          "output_type": "stream",
          "name": "stderr",
          "text": [
            "/usr/local/lib/python3.10/dist-packages/keras/src/engine/training.py:3103: UserWarning: You are saving your model as an HDF5 file via `model.save()`. This file format is considered legacy. We recommend using instead the native Keras format, e.g. `model.save('my_model.keras')`.\n",
            "  saving_api.save_model(\n"
          ]
        },
        {
          "output_type": "stream",
          "name": "stdout",
          "text": [
            "\n",
            "Epoch 2: val_accuracy improved from 0.92089 to 0.93101, saving model to ./BANGLALEKHA_LeNet_MNIST_MIX/best_lenet.hdf5\n",
            "98/98 - 1s - loss: 0.2768 - accuracy: 0.9442 - val_loss: 0.3708 - val_accuracy: 0.9310 - 1s/epoch - 12ms/step\n",
            "Epoch 3/10\n",
            "\n",
            "Epoch 3: val_accuracy improved from 0.93101 to 0.93291, saving model to ./BANGLALEKHA_LeNet_MNIST_MIX/best_lenet.hdf5\n",
            "98/98 - 1s - loss: 0.2354 - accuracy: 0.9510 - val_loss: 0.3904 - val_accuracy: 0.9329 - 614ms/epoch - 6ms/step\n",
            "Epoch 4/10\n",
            "\n",
            "Epoch 4: val_accuracy improved from 0.93291 to 0.93323, saving model to ./BANGLALEKHA_LeNet_MNIST_MIX/best_lenet.hdf5\n",
            "98/98 - 1s - loss: 0.2046 - accuracy: 0.9577 - val_loss: 0.4066 - val_accuracy: 0.9332 - 602ms/epoch - 6ms/step\n",
            "Epoch 5/10\n",
            "\n",
            "Epoch 5: val_accuracy improved from 0.93323 to 0.93797, saving model to ./BANGLALEKHA_LeNet_MNIST_MIX/best_lenet.hdf5\n",
            "98/98 - 1s - loss: 0.1936 - accuracy: 0.9596 - val_loss: 0.4015 - val_accuracy: 0.9380 - 626ms/epoch - 6ms/step\n",
            "Epoch 6/10\n",
            "\n",
            "Epoch 6: val_accuracy did not improve from 0.93797\n",
            "98/98 - 1s - loss: 0.1894 - accuracy: 0.9630 - val_loss: 0.5907 - val_accuracy: 0.9234 - 564ms/epoch - 6ms/step\n",
            "Epoch 7/10\n",
            "\n",
            "Epoch 7: val_accuracy did not improve from 0.93797\n",
            "98/98 - 1s - loss: 0.1510 - accuracy: 0.9685 - val_loss: 0.5368 - val_accuracy: 0.9342 - 664ms/epoch - 7ms/step\n",
            "Epoch 8/10\n",
            "\n",
            "Epoch 8: val_accuracy improved from 0.93797 to 0.93892, saving model to ./BANGLALEKHA_LeNet_MNIST_MIX/best_lenet.hdf5\n",
            "98/98 - 1s - loss: 0.1551 - accuracy: 0.9680 - val_loss: 0.5110 - val_accuracy: 0.9389 - 702ms/epoch - 7ms/step\n",
            "Epoch 9/10\n",
            "\n",
            "Epoch 9: val_accuracy did not improve from 0.93892\n",
            "98/98 - 1s - loss: 0.1583 - accuracy: 0.9697 - val_loss: 0.6193 - val_accuracy: 0.9301 - 599ms/epoch - 6ms/step\n",
            "Epoch 10/10\n",
            "\n",
            "Epoch 10: val_accuracy improved from 0.93892 to 0.94241, saving model to ./BANGLALEKHA_LeNet_MNIST_MIX/best_lenet.hdf5\n",
            "98/98 - 1s - loss: 0.1426 - accuracy: 0.9726 - val_loss: 0.5300 - val_accuracy: 0.9424 - 706ms/epoch - 7ms/step\n"
          ]
        },
        {
          "output_type": "display_data",
          "data": {
            "text/plain": [
              "<Figure size 640x480 with 1 Axes>"
            ],
            "image/png": "[encoded data removed]"
          },
          "metadata": {}
        },
        {
          "output_type": "execute_result",
          "data": {
            "text/plain": [
              "<keras.src.engine.functional.Functional at 0x780d0c10e170>"
            ]
          },
          "metadata": {},
          "execution_count": 17
        }
      ]
    },
    {
      "cell_type": "code",
      "source": [
        "# Testing the saved model on BanglaLekha Isolated test data\n",
        "pretrained_weights = '/content/BANGLALEKHA_LeNet_MNIST_MIX/best_lenet.hdf5'\n",
        "accuracies = test_fn(X_test, y_test, input_shape, num_classes, loss, optimizer, metrics, pretrained_weights)\n",
        "print('Accuracy: ', accuracies[0])\n",
        "print('Weighted F1: ', accuracies[1])\n",
        "print('Balanced Accuracy: ', accuracies[2])"
      ],
      "metadata": {
        "colab": {
          "base_uri": "https://localhost:8080/"
        },
        "id": "zQaBLcFEpMpU",
        "outputId": "97ba4113-74f0-4263-df6b-98d44f2d7e47"
      },
      "execution_count": null,
      "outputs": [
        {
          "output_type": "stream",
          "name": "stdout",
          "text": [
            "Model: \"model_17\"\n",
            "_________________________________________________________________\n",
            " Layer (type)                Output Shape              Param #   \n",
            "=================================================================\n",
            " conv2d_16_input (InputLaye  [(None, 28, 28, 1)]       0         \n",
            " r)                                                              \n",
            "                                                                 \n",
            " conv2d_16 (Conv2D)          (None, 28, 28, 20)        520       \n",
            "                                                                 \n",
            " activation_24 (Activation)  (None, 28, 28, 20)        0         \n",
            "                                                                 \n",
            " max_pooling2d_16 (MaxPooli  (None, 14, 14, 20)        0         \n",
            " ng2D)                                                           \n",
            "                                                                 \n",
            " conv2d_17 (Conv2D)          (None, 14, 14, 50)        25050     \n",
            "                                                                 \n",
            " activation_25 (Activation)  (None, 14, 14, 50)        0         \n",
            "                                                                 \n",
            " max_pooling2d_17 (MaxPooli  (None, 7, 7, 50)          0         \n",
            " ng2D)                                                           \n",
            "                                                                 \n",
            " flatten_8 (Flatten)         (None, 2450)              0         \n",
            "                                                                 \n",
            " dense_24 (Dense)            (None, 500)               1225500   \n",
            "                                                                 \n",
            " activation_26 (Activation)  (None, 500)               0         \n",
            "                                                                 \n",
            " dense_26 (Dense)            (None, 100)               50100     \n",
            "                                                                 \n",
            "=================================================================\n",
            "Total params: 1301170 (4.96 MB)\n",
            "Trainable params: 50100 (195.70 KB)\n",
            "Non-trainable params: 1251070 (4.77 MB)\n",
            "_________________________________________________________________\n",
            "124/124 [==============================] - 0s 3ms/step\n",
            "Accuracy:  0.9458227753639221\n",
            "Weighted F1:  0.9456714337468702\n",
            "Balanced Accuracy:  0.945864691840687\n"
          ]
        }
      ]
    },
    {
      "cell_type": "code",
      "source": [
        "# Training on CMATTERDB 3.1.1 Dataset\n",
        "img_rows, img_cols = 28 , 28\n",
        "input_shape = (img_rows, img_cols, 1)\n",
        "num_classes = 100\n",
        "loss = 'categorical_crossentropy'\n",
        "optimizer = Adam(learning_rate=0.01, clipnorm=0.001)\n",
        "metrics = ['accuracy']\n",
        "batch_size = 128\n",
        "epochs = 10\n",
        "\n",
        "checkpoint_dir = './BANGLA_LeNet_MNIST_MIX/'\n",
        "input_train_test_fn = '/content/drive/MyDrive/mnist_mix_all/Bangla_train_test.npz'\n",
        "\n",
        "# load data\n",
        "X_train, y_train, X_vali, y_vali, X_test, y_test = load_dataset_with_processing(input_train_test_fn, num_classes=100)\n",
        "\n",
        "train_fn(X_train, y_train, X_vali, y_vali, input_shape, num_classes, loss, optimizer, metrics, checkpoint_dir, batch_size, epochs)"
      ],
      "metadata": {
        "colab": {
          "base_uri": "https://localhost:8080/",
          "height": 1000
        },
        "id": "iMBGrYfLpL5r",
        "outputId": "4839a717-4f4b-41cb-94db-964beb1b97fa"
      },
      "execution_count": null,
      "outputs": [
        {
          "output_type": "stream",
          "name": "stdout",
          "text": [
            "(3840, 28, 28, 1)\n",
            "(960, 28, 28, 1)\n",
            "(1200, 28, 28, 1)\n",
            "Model: \"model_19\"\n",
            "_________________________________________________________________\n",
            " Layer (type)                Output Shape              Param #   \n",
            "=================================================================\n",
            " conv2d_18_input (InputLaye  [(None, 28, 28, 1)]       0         \n",
            " r)                                                              \n",
            "                                                                 \n",
            " conv2d_18 (Conv2D)          (None, 28, 28, 20)        520       \n",
            "                                                                 \n",
            " activation_27 (Activation)  (None, 28, 28, 20)        0         \n",
            "                                                                 \n",
            " max_pooling2d_18 (MaxPooli  (None, 14, 14, 20)        0         \n",
            " ng2D)                                                           \n",
            "                                                                 \n",
            " conv2d_19 (Conv2D)          (None, 14, 14, 50)        25050     \n",
            "                                                                 \n",
            " activation_28 (Activation)  (None, 14, 14, 50)        0         \n",
            "                                                                 \n",
            " max_pooling2d_19 (MaxPooli  (None, 7, 7, 50)          0         \n",
            " ng2D)                                                           \n",
            "                                                                 \n",
            " flatten_9 (Flatten)         (None, 2450)              0         \n",
            "                                                                 \n",
            " dense_27 (Dense)            (None, 500)               1225500   \n",
            "                                                                 \n",
            " activation_29 (Activation)  (None, 500)               0         \n",
            "                                                                 \n",
            " dense_29 (Dense)            (None, 100)               50100     \n",
            "                                                                 \n",
            "=================================================================\n",
            "Total params: 1301170 (4.96 MB)\n",
            "Trainable params: 50100 (195.70 KB)\n",
            "Non-trainable params: 1251070 (4.77 MB)\n",
            "_________________________________________________________________\n",
            "Epoch 1/10\n",
            "\n",
            "Epoch 1: val_accuracy improved from -inf to 0.93646, saving model to ./BANGLA_LeNet_MNIST_MIX/best_lenet.hdf5\n",
            "30/30 - 1s - loss: 1.2100 - accuracy: 0.7987 - val_loss: 0.3117 - val_accuracy: 0.9365 - 915ms/epoch - 30ms/step\n",
            "Epoch 2/10\n"
          ]
        },
        {
          "output_type": "stream",
          "name": "stderr",
          "text": [
            "/usr/local/lib/python3.10/dist-packages/keras/src/engine/training.py:3103: UserWarning: You are saving your model as an HDF5 file via `model.save()`. This file format is considered legacy. We recommend using instead the native Keras format, e.g. `model.save('my_model.keras')`.\n",
            "  saving_api.save_model(\n"
          ]
        },
        {
          "output_type": "stream",
          "name": "stdout",
          "text": [
            "\n",
            "Epoch 2: val_accuracy improved from 0.93646 to 0.94271, saving model to ./BANGLA_LeNet_MNIST_MIX/best_lenet.hdf5\n",
            "30/30 - 0s - loss: 0.1892 - accuracy: 0.9518 - val_loss: 0.2563 - val_accuracy: 0.9427 - 238ms/epoch - 8ms/step\n",
            "Epoch 3/10\n",
            "\n",
            "Epoch 3: val_accuracy improved from 0.94271 to 0.95729, saving model to ./BANGLA_LeNet_MNIST_MIX/best_lenet.hdf5\n",
            "30/30 - 0s - loss: 0.1010 - accuracy: 0.9706 - val_loss: 0.1914 - val_accuracy: 0.9573 - 218ms/epoch - 7ms/step\n",
            "Epoch 4/10\n",
            "\n",
            "Epoch 4: val_accuracy did not improve from 0.95729\n",
            "30/30 - 0s - loss: 0.0827 - accuracy: 0.9773 - val_loss: 0.3611 - val_accuracy: 0.9260 - 201ms/epoch - 7ms/step\n",
            "Epoch 5/10\n",
            "\n",
            "Epoch 5: val_accuracy did not improve from 0.95729\n",
            "30/30 - 0s - loss: 0.0735 - accuracy: 0.9810 - val_loss: 0.2570 - val_accuracy: 0.9531 - 323ms/epoch - 11ms/step\n",
            "Epoch 6/10\n",
            "\n",
            "Epoch 6: val_accuracy improved from 0.95729 to 0.96667, saving model to ./BANGLA_LeNet_MNIST_MIX/best_lenet.hdf5\n",
            "30/30 - 0s - loss: 0.0585 - accuracy: 0.9828 - val_loss: 0.2472 - val_accuracy: 0.9667 - 357ms/epoch - 12ms/step\n",
            "Epoch 7/10\n",
            "\n",
            "Epoch 7: val_accuracy did not improve from 0.96667\n",
            "30/30 - 0s - loss: 0.0658 - accuracy: 0.9833 - val_loss: 0.2830 - val_accuracy: 0.9573 - 259ms/epoch - 9ms/step\n",
            "Epoch 8/10\n",
            "\n",
            "Epoch 8: val_accuracy did not improve from 0.96667\n",
            "30/30 - 0s - loss: 0.0524 - accuracy: 0.9880 - val_loss: 0.2898 - val_accuracy: 0.9542 - 321ms/epoch - 11ms/step\n",
            "Epoch 9/10\n",
            "\n",
            "Epoch 9: val_accuracy did not improve from 0.96667\n",
            "30/30 - 0s - loss: 0.0366 - accuracy: 0.9906 - val_loss: 0.2709 - val_accuracy: 0.9615 - 323ms/epoch - 11ms/step\n",
            "Epoch 10/10\n",
            "\n",
            "Epoch 10: val_accuracy did not improve from 0.96667\n",
            "30/30 - 0s - loss: 0.0301 - accuracy: 0.9911 - val_loss: 0.3413 - val_accuracy: 0.9510 - 331ms/epoch - 11ms/step\n"
          ]
        },
        {
          "output_type": "display_data",
          "data": {
            "text/plain": [
              "<Figure size 640x480 with 1 Axes>"
            ],
            "image/png": "[encoded data removed]"
          },
          "metadata": {}
        },
        {
          "output_type": "execute_result",
          "data": {
            "text/plain": [
              "<keras.src.engine.functional.Functional at 0x780d5c57aa10>"
            ]
          },
          "metadata": {},
          "execution_count": 19
        }
      ]
    },
    {
      "cell_type": "code",
      "source": [
        "# Testing the saved model on CMATTERDB 3.1.1 test data\n",
        "pretrained_weights = '/content/BANGLA_LeNet_MNIST_MIX/best_lenet.hdf5'\n",
        "accuracies = test_fn(X_test, y_test, input_shape, num_classes, loss, optimizer, metrics, pretrained_weights)\n",
        "print('Accuracy: ', accuracies[0])\n",
        "print('Weighted F1: ', accuracies[1])\n",
        "print('Balanced Accuracy: ', accuracies[2])"
      ],
      "metadata": {
        "colab": {
          "base_uri": "https://localhost:8080/"
        },
        "id": "GzBvYuHdpL19",
        "outputId": "25135c57-df33-4b31-d5ba-770bbb5bd710"
      },
      "execution_count": null,
      "outputs": [
        {
          "output_type": "stream",
          "name": "stdout",
          "text": [
            "Model: \"model_21\"\n",
            "_________________________________________________________________\n",
            " Layer (type)                Output Shape              Param #   \n",
            "=================================================================\n",
            " conv2d_20_input (InputLaye  [(None, 28, 28, 1)]       0         \n",
            " r)                                                              \n",
            "                                                                 \n",
            " conv2d_20 (Conv2D)          (None, 28, 28, 20)        520       \n",
            "                                                                 \n",
            " activation_30 (Activation)  (None, 28, 28, 20)        0         \n",
            "                                                                 \n",
            " max_pooling2d_20 (MaxPooli  (None, 14, 14, 20)        0         \n",
            " ng2D)                                                           \n",
            "                                                                 \n",
            " conv2d_21 (Conv2D)          (None, 14, 14, 50)        25050     \n",
            "                                                                 \n",
            " activation_31 (Activation)  (None, 14, 14, 50)        0         \n",
            "                                                                 \n",
            " max_pooling2d_21 (MaxPooli  (None, 7, 7, 50)          0         \n",
            " ng2D)                                                           \n",
            "                                                                 \n",
            " flatten_10 (Flatten)        (None, 2450)              0         \n",
            "                                                                 \n",
            " dense_30 (Dense)            (None, 500)               1225500   \n",
            "                                                                 \n",
            " activation_32 (Activation)  (None, 500)               0         \n",
            "                                                                 \n",
            " dense_32 (Dense)            (None, 100)               50100     \n",
            "                                                                 \n",
            "=================================================================\n",
            "Total params: 1301170 (4.96 MB)\n",
            "Trainable params: 50100 (195.70 KB)\n",
            "Non-trainable params: 1251070 (4.77 MB)\n",
            "_________________________________________________________________\n",
            "38/38 [==============================] - 0s 2ms/step\n",
            "Accuracy:  0.9574999809265137\n",
            "Weighted F1:  0.9575003401632463\n",
            "Balanced Accuracy:  0.9575000000000001\n"
          ]
        }
      ]
    },
    {
      "cell_type": "code",
      "source": [
        "# Training on CMATTERDB 3.2.1 Dataset\n",
        "img_rows, img_cols = 28 , 28\n",
        "input_shape = (img_rows, img_cols, 1)\n",
        "num_classes = 100\n",
        "loss = 'categorical_crossentropy'\n",
        "optimizer = Adam(learning_rate=0.01, clipnorm=0.001)\n",
        "metrics = ['accuracy']\n",
        "batch_size = 128\n",
        "epochs = 10\n",
        "\n",
        "checkpoint_dir = './DEVANAGARI_LeNet_MNIST_MIX/'\n",
        "input_train_test_fn = '/content/drive/MyDrive/mnist_mix_all/Devanagari_train_test.npz'\n",
        "\n",
        "# load data\n",
        "X_train, y_train, X_vali, y_vali, X_test, y_test = load_dataset_with_processing(input_train_test_fn, num_classes=100)\n",
        "\n",
        "train_fn(X_train, y_train, X_vali, y_vali, input_shape, num_classes, loss, optimizer, metrics, checkpoint_dir, batch_size, epochs)"
      ],
      "metadata": {
        "colab": {
          "base_uri": "https://localhost:8080/",
          "height": 1000
        },
        "id": "0iIZPoGZpLyb",
        "outputId": "c9c8d21e-c979-4cab-eef1-89e739e9c3e1"
      },
      "execution_count": null,
      "outputs": [
        {
          "output_type": "stream",
          "name": "stdout",
          "text": [
            "(1920, 28, 28, 1)\n",
            "(480, 28, 28, 1)\n",
            "(600, 28, 28, 1)\n",
            "Model: \"model_23\"\n",
            "_________________________________________________________________\n",
            " Layer (type)                Output Shape              Param #   \n",
            "=================================================================\n",
            " conv2d_22_input (InputLaye  [(None, 28, 28, 1)]       0         \n",
            " r)                                                              \n",
            "                                                                 \n",
            " conv2d_22 (Conv2D)          (None, 28, 28, 20)        520       \n",
            "                                                                 \n",
            " activation_33 (Activation)  (None, 28, 28, 20)        0         \n",
            "                                                                 \n",
            " max_pooling2d_22 (MaxPooli  (None, 14, 14, 20)        0         \n",
            " ng2D)                                                           \n",
            "                                                                 \n",
            " conv2d_23 (Conv2D)          (None, 14, 14, 50)        25050     \n",
            "                                                                 \n",
            " activation_34 (Activation)  (None, 14, 14, 50)        0         \n",
            "                                                                 \n",
            " max_pooling2d_23 (MaxPooli  (None, 7, 7, 50)          0         \n",
            " ng2D)                                                           \n",
            "                                                                 \n",
            " flatten_11 (Flatten)        (None, 2450)              0         \n",
            "                                                                 \n",
            " dense_33 (Dense)            (None, 500)               1225500   \n",
            "                                                                 \n",
            " activation_35 (Activation)  (None, 500)               0         \n",
            "                                                                 \n",
            " dense_35 (Dense)            (None, 100)               50100     \n",
            "                                                                 \n",
            "=================================================================\n",
            "Total params: 1301170 (4.96 MB)\n",
            "Trainable params: 50100 (195.70 KB)\n",
            "Non-trainable params: 1251070 (4.77 MB)\n",
            "_________________________________________________________________\n",
            "Epoch 1/10\n",
            "\n",
            "Epoch 1: val_accuracy improved from -inf to 0.90417, saving model to ./DEVANAGARI_LeNet_MNIST_MIX/best_lenet.hdf5\n",
            "15/15 - 1s - loss: 2.1706 - accuracy: 0.6818 - val_loss: 0.5540 - val_accuracy: 0.9042 - 1s/epoch - 81ms/step\n",
            "Epoch 2/10\n",
            "\n",
            "Epoch 2: val_accuracy improved from 0.90417 to 0.93750, saving model to ./DEVANAGARI_LeNet_MNIST_MIX/best_lenet.hdf5\n",
            "15/15 - 0s - loss: 0.2516 - accuracy: 0.9417 - val_loss: 0.4321 - val_accuracy: 0.9375 - 147ms/epoch - 10ms/step\n",
            "Epoch 3/10\n"
          ]
        },
        {
          "output_type": "stream",
          "name": "stderr",
          "text": [
            "/usr/local/lib/python3.10/dist-packages/keras/src/engine/training.py:3103: UserWarning: You are saving your model as an HDF5 file via `model.save()`. This file format is considered legacy. We recommend using instead the native Keras format, e.g. `model.save('my_model.keras')`.\n",
            "  saving_api.save_model(\n"
          ]
        },
        {
          "output_type": "stream",
          "name": "stdout",
          "text": [
            "\n",
            "Epoch 3: val_accuracy did not improve from 0.93750\n",
            "15/15 - 0s - loss: 0.1134 - accuracy: 0.9661 - val_loss: 0.4995 - val_accuracy: 0.9354 - 108ms/epoch - 7ms/step\n",
            "Epoch 4/10\n",
            "\n",
            "Epoch 4: val_accuracy improved from 0.93750 to 0.94375, saving model to ./DEVANAGARI_LeNet_MNIST_MIX/best_lenet.hdf5\n",
            "15/15 - 0s - loss: 0.0775 - accuracy: 0.9781 - val_loss: 0.5299 - val_accuracy: 0.9438 - 131ms/epoch - 9ms/step\n",
            "Epoch 5/10\n",
            "\n",
            "Epoch 5: val_accuracy improved from 0.94375 to 0.95625, saving model to ./DEVANAGARI_LeNet_MNIST_MIX/best_lenet.hdf5\n",
            "15/15 - 0s - loss: 0.0364 - accuracy: 0.9891 - val_loss: 0.5353 - val_accuracy: 0.9563 - 134ms/epoch - 9ms/step\n",
            "Epoch 6/10\n",
            "\n",
            "Epoch 6: val_accuracy did not improve from 0.95625\n",
            "15/15 - 0s - loss: 0.0462 - accuracy: 0.9880 - val_loss: 0.5198 - val_accuracy: 0.9542 - 147ms/epoch - 10ms/step\n",
            "Epoch 7/10\n",
            "\n",
            "Epoch 7: val_accuracy did not improve from 0.95625\n",
            "15/15 - 0s - loss: 0.0384 - accuracy: 0.9896 - val_loss: 0.4956 - val_accuracy: 0.9563 - 108ms/epoch - 7ms/step\n",
            "Epoch 8/10\n",
            "\n",
            "Epoch 8: val_accuracy did not improve from 0.95625\n",
            "15/15 - 0s - loss: 0.0208 - accuracy: 0.9932 - val_loss: 0.5942 - val_accuracy: 0.9417 - 109ms/epoch - 7ms/step\n",
            "Epoch 9/10\n",
            "\n",
            "Epoch 9: val_accuracy did not improve from 0.95625\n",
            "15/15 - 0s - loss: 0.0161 - accuracy: 0.9948 - val_loss: 0.5182 - val_accuracy: 0.9438 - 102ms/epoch - 7ms/step\n",
            "Epoch 10/10\n",
            "\n",
            "Epoch 10: val_accuracy did not improve from 0.95625\n",
            "15/15 - 0s - loss: 0.0205 - accuracy: 0.9927 - val_loss: 0.6133 - val_accuracy: 0.9563 - 114ms/epoch - 8ms/step\n"
          ]
        },
        {
          "output_type": "display_data",
          "data": {
            "text/plain": [
              "<Figure size 640x480 with 1 Axes>"
            ],
            "image/png": "[encoded data removed]"
          },
          "metadata": {}
        },
        {
          "output_type": "execute_result",
          "data": {
            "text/plain": [
              "<keras.src.engine.functional.Functional at 0x780d5c578b50>"
            ]
          },
          "metadata": {},
          "execution_count": 21
        }
      ]
    },
    {
      "cell_type": "code",
      "source": [
        "# Testing the saved model on CMATTERDB 3.2.1 test data\n",
        "pretrained_weights = '/content/DEVANAGARI_LeNet_MNIST_MIX/best_lenet.hdf5'\n",
        "accuracies = test_fn(X_test, y_test, input_shape, num_classes, loss, optimizer, metrics, pretrained_weights)\n",
        "print('Accuracy: ', accuracies[0])\n",
        "print('Weighted F1: ', accuracies[1])\n",
        "print('Balanced Accuracy: ', accuracies[2])"
      ],
      "metadata": {
        "colab": {
          "base_uri": "https://localhost:8080/"
        },
        "id": "O7LEO98spLuA",
        "outputId": "d36c9413-69a5-49bd-ab8c-64334cfd6929"
      },
      "execution_count": null,
      "outputs": [
        {
          "output_type": "stream",
          "name": "stdout",
          "text": [
            "Model: \"model_25\"\n",
            "_________________________________________________________________\n",
            " Layer (type)                Output Shape              Param #   \n",
            "=================================================================\n",
            " conv2d_24_input (InputLaye  [(None, 28, 28, 1)]       0         \n",
            " r)                                                              \n",
            "                                                                 \n",
            " conv2d_24 (Conv2D)          (None, 28, 28, 20)        520       \n",
            "                                                                 \n",
            " activation_36 (Activation)  (None, 28, 28, 20)        0         \n",
            "                                                                 \n",
            " max_pooling2d_24 (MaxPooli  (None, 14, 14, 20)        0         \n",
            " ng2D)                                                           \n",
            "                                                                 \n",
            " conv2d_25 (Conv2D)          (None, 14, 14, 50)        25050     \n",
            "                                                                 \n",
            " activation_37 (Activation)  (None, 14, 14, 50)        0         \n",
            "                                                                 \n",
            " max_pooling2d_25 (MaxPooli  (None, 7, 7, 50)          0         \n",
            " ng2D)                                                           \n",
            "                                                                 \n",
            " flatten_12 (Flatten)        (None, 2450)              0         \n",
            "                                                                 \n",
            " dense_36 (Dense)            (None, 500)               1225500   \n",
            "                                                                 \n",
            " activation_38 (Activation)  (None, 500)               0         \n",
            "                                                                 \n",
            " dense_38 (Dense)            (None, 100)               50100     \n",
            "                                                                 \n",
            "=================================================================\n",
            "Total params: 1301170 (4.96 MB)\n",
            "Trainable params: 50100 (195.70 KB)\n",
            "Non-trainable params: 1251070 (4.77 MB)\n",
            "_________________________________________________________________\n",
            "19/19 [==============================] - 0s 5ms/step\n",
            "Accuracy:  0.9399999976158142\n",
            "Weighted F1:  0.9400444539693367\n",
            "Balanced Accuracy:  0.9400000000000001\n"
          ]
        }
      ]
    },
    {
      "cell_type": "code",
      "source": [
        "# Training on EMNIST Dataset\n",
        "img_rows, img_cols = 28 , 28\n",
        "input_shape = (img_rows, img_cols, 1)\n",
        "num_classes = 100\n",
        "loss = 'categorical_crossentropy'\n",
        "optimizer = Adam(learning_rate=0.01, clipnorm=0.001)\n",
        "metrics = ['accuracy']\n",
        "batch_size = 128\n",
        "epochs = 10\n",
        "\n",
        "checkpoint_dir = './EMNIST_LeNet_MNIST_MIX/'\n",
        "input_train_test_fn = '/content/drive/MyDrive/mnist_mix_all/EMNIST_train_test.npz'\n",
        "\n",
        "# load data\n",
        "X_train, y_train, X_vali, y_vali, X_test, y_test = load_dataset_with_processing(input_train_test_fn, num_classes=100)\n",
        "\n",
        "train_fn(X_train, y_train, X_vali, y_vali, input_shape, num_classes, loss, optimizer, metrics, checkpoint_dir, batch_size, epochs)"
      ],
      "metadata": {
        "colab": {
          "base_uri": "https://localhost:8080/",
          "height": 1000
        },
        "id": "8hh4jL_ppLpK",
        "outputId": "a2633042-8220-47de-eeaf-388293e0098d"
      },
      "execution_count": null,
      "outputs": [
        {
          "output_type": "stream",
          "name": "stdout",
          "text": [
            "(192000, 28, 28, 1)\n",
            "(48000, 28, 28, 1)\n",
            "(40000, 28, 28, 1)\n",
            "Model: \"model_27\"\n",
            "_________________________________________________________________\n",
            " Layer (type)                Output Shape              Param #   \n",
            "=================================================================\n",
            " conv2d_26_input (InputLaye  [(None, 28, 28, 1)]       0         \n",
            " r)                                                              \n",
            "                                                                 \n",
            " conv2d_26 (Conv2D)          (None, 28, 28, 20)        520       \n",
            "                                                                 \n",
            " activation_39 (Activation)  (None, 28, 28, 20)        0         \n",
            "                                                                 \n",
            " max_pooling2d_26 (MaxPooli  (None, 14, 14, 20)        0         \n",
            " ng2D)                                                           \n",
            "                                                                 \n",
            " conv2d_27 (Conv2D)          (None, 14, 14, 50)        25050     \n",
            "                                                                 \n",
            " activation_40 (Activation)  (None, 14, 14, 50)        0         \n",
            "                                                                 \n",
            " max_pooling2d_27 (MaxPooli  (None, 7, 7, 50)          0         \n",
            " ng2D)                                                           \n",
            "                                                                 \n",
            " flatten_13 (Flatten)        (None, 2450)              0         \n",
            "                                                                 \n",
            " dense_39 (Dense)            (None, 500)               1225500   \n",
            "                                                                 \n",
            " activation_41 (Activation)  (None, 500)               0         \n",
            "                                                                 \n",
            " dense_41 (Dense)            (None, 100)               50100     \n",
            "                                                                 \n",
            "=================================================================\n",
            "Total params: 1301170 (4.96 MB)\n",
            "Trainable params: 50100 (195.70 KB)\n",
            "Non-trainable params: 1251070 (4.77 MB)\n",
            "_________________________________________________________________\n",
            "Epoch 1/10\n",
            "\n",
            "Epoch 1: val_accuracy improved from -inf to 0.99296, saving model to ./EMNIST_LeNet_MNIST_MIX/best_lenet.hdf5\n",
            "1500/1500 - 12s - loss: 0.1234 - accuracy: 0.9888 - val_loss: 0.1126 - val_accuracy: 0.9930 - 12s/epoch - 8ms/step\n",
            "Epoch 2/10\n"
          ]
        },
        {
          "output_type": "stream",
          "name": "stderr",
          "text": [
            "/usr/local/lib/python3.10/dist-packages/keras/src/engine/training.py:3103: UserWarning: You are saving your model as an HDF5 file via `model.save()`. This file format is considered legacy. We recommend using instead the native Keras format, e.g. `model.save('my_model.keras')`.\n",
            "  saving_api.save_model(\n"
          ]
        },
        {
          "output_type": "stream",
          "name": "stdout",
          "text": [
            "\n",
            "Epoch 2: val_accuracy improved from 0.99296 to 0.99423, saving model to ./EMNIST_LeNet_MNIST_MIX/best_lenet.hdf5\n",
            "1500/1500 - 9s - loss: 0.1115 - accuracy: 0.9935 - val_loss: 0.1270 - val_accuracy: 0.9942 - 9s/epoch - 6ms/step\n",
            "Epoch 3/10\n",
            "\n",
            "Epoch 3: val_accuracy improved from 0.99423 to 0.99467, saving model to ./EMNIST_LeNet_MNIST_MIX/best_lenet.hdf5\n",
            "1500/1500 - 15s - loss: 0.1045 - accuracy: 0.9944 - val_loss: 0.1440 - val_accuracy: 0.9947 - 15s/epoch - 10ms/step\n",
            "Epoch 4/10\n",
            "\n",
            "Epoch 4: val_accuracy did not improve from 0.99467\n",
            "1500/1500 - 12s - loss: 0.0988 - accuracy: 0.9951 - val_loss: 0.1616 - val_accuracy: 0.9940 - 12s/epoch - 8ms/step\n",
            "Epoch 5/10\n",
            "\n",
            "Epoch 5: val_accuracy did not improve from 0.99467\n",
            "1500/1500 - 10s - loss: 0.0967 - accuracy: 0.9953 - val_loss: 0.1701 - val_accuracy: 0.9939 - 10s/epoch - 7ms/step\n",
            "Epoch 6/10\n",
            "\n",
            "Epoch 6: val_accuracy did not improve from 0.99467\n",
            "1500/1500 - 10s - loss: 0.0913 - accuracy: 0.9957 - val_loss: 0.1864 - val_accuracy: 0.9938 - 10s/epoch - 7ms/step\n",
            "Epoch 7/10\n",
            "\n",
            "Epoch 7: val_accuracy did not improve from 0.99467\n",
            "1500/1500 - 8s - loss: 0.0884 - accuracy: 0.9959 - val_loss: 0.1951 - val_accuracy: 0.9936 - 8s/epoch - 5ms/step\n",
            "Epoch 8/10\n",
            "\n",
            "Epoch 8: val_accuracy did not improve from 0.99467\n",
            "1500/1500 - 11s - loss: 0.0862 - accuracy: 0.9959 - val_loss: 0.1806 - val_accuracy: 0.9944 - 11s/epoch - 8ms/step\n",
            "Epoch 9/10\n",
            "\n",
            "Epoch 9: val_accuracy did not improve from 0.99467\n",
            "1500/1500 - 9s - loss: 0.0860 - accuracy: 0.9960 - val_loss: 0.2007 - val_accuracy: 0.9937 - 9s/epoch - 6ms/step\n",
            "Epoch 10/10\n",
            "\n",
            "Epoch 10: val_accuracy did not improve from 0.99467\n",
            "1500/1500 - 10s - loss: 0.0829 - accuracy: 0.9962 - val_loss: 0.2245 - val_accuracy: 0.9935 - 10s/epoch - 7ms/step\n"
          ]
        },
        {
          "output_type": "display_data",
          "data": {
            "text/plain": [
              "<Figure size 640x480 with 1 Axes>"
            ],
            "image/png": "[encoded data removed]"
          },
          "metadata": {}
        },
        {
          "output_type": "execute_result",
          "data": {
            "text/plain": [
              "<keras.src.engine.functional.Functional at 0x780d5c11e590>"
            ]
          },
          "metadata": {},
          "execution_count": 23
        }
      ]
    },
    {
      "cell_type": "code",
      "source": [
        "# Testing the saved model on EMNIST test data\n",
        "pretrained_weights = '/content/EMNIST_LeNet_MNIST_MIX/best_lenet.hdf5'\n",
        "accuracies = test_fn(X_test, y_test, input_shape, num_classes, loss, optimizer, metrics, pretrained_weights)\n",
        "print('Accuracy: ', accuracies[0])\n",
        "print('Weighted F1: ', accuracies[1])\n",
        "print('Balanced Accuracy: ', accuracies[2])"
      ],
      "metadata": {
        "colab": {
          "base_uri": "https://localhost:8080/"
        },
        "id": "dTGph7K4pLlF",
        "outputId": "664c56a1-34ba-4698-f381-5ed074c0f2df"
      },
      "execution_count": null,
      "outputs": [
        {
          "output_type": "stream",
          "name": "stdout",
          "text": [
            "Model: \"model_29\"\n",
            "_________________________________________________________________\n",
            " Layer (type)                Output Shape              Param #   \n",
            "=================================================================\n",
            " conv2d_28_input (InputLaye  [(None, 28, 28, 1)]       0         \n",
            " r)                                                              \n",
            "                                                                 \n",
            " conv2d_28 (Conv2D)          (None, 28, 28, 20)        520       \n",
            "                                                                 \n",
            " activation_42 (Activation)  (None, 28, 28, 20)        0         \n",
            "                                                                 \n",
            " max_pooling2d_28 (MaxPooli  (None, 14, 14, 20)        0         \n",
            " ng2D)                                                           \n",
            "                                                                 \n",
            " conv2d_29 (Conv2D)          (None, 14, 14, 50)        25050     \n",
            "                                                                 \n",
            " activation_43 (Activation)  (None, 14, 14, 50)        0         \n",
            "                                                                 \n",
            " max_pooling2d_29 (MaxPooli  (None, 7, 7, 50)          0         \n",
            " ng2D)                                                           \n",
            "                                                                 \n",
            " flatten_14 (Flatten)        (None, 2450)              0         \n",
            "                                                                 \n",
            " dense_42 (Dense)            (None, 500)               1225500   \n",
            "                                                                 \n",
            " activation_44 (Activation)  (None, 500)               0         \n",
            "                                                                 \n",
            " dense_44 (Dense)            (None, 100)               50100     \n",
            "                                                                 \n",
            "=================================================================\n",
            "Total params: 1301170 (4.96 MB)\n",
            "Trainable params: 50100 (195.70 KB)\n",
            "Non-trainable params: 1251070 (4.77 MB)\n",
            "_________________________________________________________________\n",
            "1250/1250 [==============================] - 2s 2ms/step\n",
            "Accuracy:  0.9944499731063843\n",
            "Weighted F1:  0.9944509619151991\n",
            "Balanced Accuracy:  0.99445\n"
          ]
        }
      ]
    },
    {
      "cell_type": "code",
      "source": [
        "# Training on FARSI Dataset\n",
        "img_rows, img_cols = 28 , 28\n",
        "input_shape = (img_rows, img_cols, 1)\n",
        "num_classes = 100\n",
        "loss = 'categorical_crossentropy'\n",
        "optimizer = Adam(learning_rate=0.01, clipnorm=0.001)\n",
        "metrics = ['accuracy']\n",
        "batch_size = 128\n",
        "epochs = 10\n",
        "\n",
        "checkpoint_dir = './FARSI_LeNet_MNIST_MIX/'\n",
        "input_train_test_fn = '/content/drive/MyDrive/mnist_mix_all/Farsi_train_test.npz'\n",
        "\n",
        "# load data\n",
        "X_train, y_train, X_vali, y_vali, X_test, y_test = load_dataset_with_processing(input_train_test_fn, num_classes=100)\n",
        "\n",
        "train_fn(X_train, y_train, X_vali, y_vali, input_shape, num_classes, loss, optimizer, metrics, checkpoint_dir, batch_size, epochs)"
      ],
      "metadata": {
        "colab": {
          "base_uri": "https://localhost:8080/",
          "height": 1000
        },
        "id": "eFEYC3hypLh7",
        "outputId": "4b8f9199-0663-4d40-b08c-a0f3ad5c0f5a"
      },
      "execution_count": null,
      "outputs": [
        {
          "output_type": "stream",
          "name": "stdout",
          "text": [
            "(48000, 28, 28, 1)\n",
            "(12000, 28, 28, 1)\n",
            "(20000, 28, 28, 1)\n",
            "Model: \"model_31\"\n",
            "_________________________________________________________________\n",
            " Layer (type)                Output Shape              Param #   \n",
            "=================================================================\n",
            " conv2d_30_input (InputLaye  [(None, 28, 28, 1)]       0         \n",
            " r)                                                              \n",
            "                                                                 \n",
            " conv2d_30 (Conv2D)          (None, 28, 28, 20)        520       \n",
            "                                                                 \n",
            " activation_45 (Activation)  (None, 28, 28, 20)        0         \n",
            "                                                                 \n",
            " max_pooling2d_30 (MaxPooli  (None, 14, 14, 20)        0         \n",
            " ng2D)                                                           \n",
            "                                                                 \n",
            " conv2d_31 (Conv2D)          (None, 14, 14, 50)        25050     \n",
            "                                                                 \n",
            " activation_46 (Activation)  (None, 14, 14, 50)        0         \n",
            "                                                                 \n",
            " max_pooling2d_31 (MaxPooli  (None, 7, 7, 50)          0         \n",
            " ng2D)                                                           \n",
            "                                                                 \n",
            " flatten_15 (Flatten)        (None, 2450)              0         \n",
            "                                                                 \n",
            " dense_45 (Dense)            (None, 500)               1225500   \n",
            "                                                                 \n",
            " activation_47 (Activation)  (None, 500)               0         \n",
            "                                                                 \n",
            " dense_47 (Dense)            (None, 100)               50100     \n",
            "                                                                 \n",
            "=================================================================\n",
            "Total params: 1301170 (4.96 MB)\n",
            "Trainable params: 50100 (195.70 KB)\n",
            "Non-trainable params: 1251070 (4.77 MB)\n",
            "_________________________________________________________________\n",
            "Epoch 1/10\n",
            "\n",
            "Epoch 1: val_accuracy improved from -inf to 0.98167, saving model to ./FARSI_LeNet_MNIST_MIX/best_lenet.hdf5\n",
            "375/375 - 4s - loss: 0.2004 - accuracy: 0.9634 - val_loss: 0.1071 - val_accuracy: 0.9817 - 4s/epoch - 11ms/step\n",
            "Epoch 2/10\n"
          ]
        },
        {
          "output_type": "stream",
          "name": "stderr",
          "text": [
            "/usr/local/lib/python3.10/dist-packages/keras/src/engine/training.py:3103: UserWarning: You are saving your model as an HDF5 file via `model.save()`. This file format is considered legacy. We recommend using instead the native Keras format, e.g. `model.save('my_model.keras')`.\n",
            "  saving_api.save_model(\n"
          ]
        },
        {
          "output_type": "stream",
          "name": "stdout",
          "text": [
            "\n",
            "Epoch 2: val_accuracy did not improve from 0.98167\n",
            "375/375 - 3s - loss: 0.1109 - accuracy: 0.9821 - val_loss: 0.1870 - val_accuracy: 0.9772 - 3s/epoch - 7ms/step\n",
            "Epoch 3/10\n",
            "\n",
            "Epoch 3: val_accuracy improved from 0.98167 to 0.98358, saving model to ./FARSI_LeNet_MNIST_MIX/best_lenet.hdf5\n",
            "375/375 - 3s - loss: 0.1048 - accuracy: 0.9855 - val_loss: 0.1246 - val_accuracy: 0.9836 - 3s/epoch - 7ms/step\n",
            "Epoch 4/10\n",
            "\n",
            "Epoch 4: val_accuracy improved from 0.98358 to 0.98617, saving model to ./FARSI_LeNet_MNIST_MIX/best_lenet.hdf5\n",
            "375/375 - 3s - loss: 0.0891 - accuracy: 0.9885 - val_loss: 0.1213 - val_accuracy: 0.9862 - 3s/epoch - 7ms/step\n",
            "Epoch 5/10\n",
            "\n",
            "Epoch 5: val_accuracy did not improve from 0.98617\n",
            "375/375 - 3s - loss: 0.0862 - accuracy: 0.9889 - val_loss: 0.1429 - val_accuracy: 0.9817 - 3s/epoch - 7ms/step\n",
            "Epoch 6/10\n",
            "\n",
            "Epoch 6: val_accuracy did not improve from 0.98617\n",
            "375/375 - 3s - loss: 0.0794 - accuracy: 0.9899 - val_loss: 0.1699 - val_accuracy: 0.9820 - 3s/epoch - 7ms/step\n",
            "Epoch 7/10\n",
            "\n",
            "Epoch 7: val_accuracy improved from 0.98617 to 0.98633, saving model to ./FARSI_LeNet_MNIST_MIX/best_lenet.hdf5\n",
            "375/375 - 2s - loss: 0.0883 - accuracy: 0.9901 - val_loss: 0.1387 - val_accuracy: 0.9863 - 2s/epoch - 6ms/step\n",
            "Epoch 8/10\n",
            "\n",
            "Epoch 8: val_accuracy did not improve from 0.98633\n",
            "375/375 - 3s - loss: 0.0698 - accuracy: 0.9916 - val_loss: 0.1374 - val_accuracy: 0.9863 - 3s/epoch - 9ms/step\n",
            "Epoch 9/10\n",
            "\n",
            "Epoch 9: val_accuracy did not improve from 0.98633\n",
            "375/375 - 3s - loss: 0.0680 - accuracy: 0.9922 - val_loss: 0.1815 - val_accuracy: 0.9863 - 3s/epoch - 8ms/step\n",
            "Epoch 10/10\n",
            "\n",
            "Epoch 10: val_accuracy did not improve from 0.98633\n",
            "375/375 - 4s - loss: 0.0645 - accuracy: 0.9925 - val_loss: 0.2066 - val_accuracy: 0.9847 - 4s/epoch - 12ms/step\n"
          ]
        },
        {
          "output_type": "display_data",
          "data": {
            "text/plain": [
              "<Figure size 640x480 with 1 Axes>"
            ],
            "image/png": "[encoded data removed]"
          },
          "metadata": {}
        },
        {
          "output_type": "execute_result",
          "data": {
            "text/plain": [
              "<keras.src.engine.functional.Functional at 0x780cc405b9a0>"
            ]
          },
          "metadata": {},
          "execution_count": 25
        }
      ]
    },
    {
      "cell_type": "code",
      "source": [
        "# Testing the saved model on FARSI test data\n",
        "pretrained_weights = '/content/FARSI_LeNet_MNIST_MIX/best_lenet.hdf5'\n",
        "accuracies = test_fn(X_test, y_test, input_shape, num_classes, loss, optimizer, metrics, pretrained_weights)\n",
        "print('Accuracy: ', accuracies[0])\n",
        "print('Weighted F1: ', accuracies[1])\n",
        "print('Balanced Accuracy: ', accuracies[2])"
      ],
      "metadata": {
        "colab": {
          "base_uri": "https://localhost:8080/"
        },
        "id": "AOMyJAbRpLZD",
        "outputId": "4e4d532b-bd3f-4940-d18e-ed8753fbcda3"
      },
      "execution_count": null,
      "outputs": [
        {
          "output_type": "stream",
          "name": "stdout",
          "text": [
            "Model: \"model_33\"\n",
            "_________________________________________________________________\n",
            " Layer (type)                Output Shape              Param #   \n",
            "=================================================================\n",
            " conv2d_32_input (InputLaye  [(None, 28, 28, 1)]       0         \n",
            " r)                                                              \n",
            "                                                                 \n",
            " conv2d_32 (Conv2D)          (None, 28, 28, 20)        520       \n",
            "                                                                 \n",
            " activation_48 (Activation)  (None, 28, 28, 20)        0         \n",
            "                                                                 \n",
            " max_pooling2d_32 (MaxPooli  (None, 14, 14, 20)        0         \n",
            " ng2D)                                                           \n",
            "                                                                 \n",
            " conv2d_33 (Conv2D)          (None, 14, 14, 50)        25050     \n",
            "                                                                 \n",
            " activation_49 (Activation)  (None, 14, 14, 50)        0         \n",
            "                                                                 \n",
            " max_pooling2d_33 (MaxPooli  (None, 7, 7, 50)          0         \n",
            " ng2D)                                                           \n",
            "                                                                 \n",
            " flatten_16 (Flatten)        (None, 2450)              0         \n",
            "                                                                 \n",
            " dense_48 (Dense)            (None, 500)               1225500   \n",
            "                                                                 \n",
            " activation_50 (Activation)  (None, 500)               0         \n",
            "                                                                 \n",
            " dense_50 (Dense)            (None, 100)               50100     \n",
            "                                                                 \n",
            "=================================================================\n",
            "Total params: 1301170 (4.96 MB)\n",
            "Trainable params: 50100 (195.70 KB)\n",
            "Non-trainable params: 1251070 (4.77 MB)\n",
            "_________________________________________________________________\n",
            "625/625 [==============================] - 2s 3ms/step\n",
            "Accuracy:  0.9793000221252441\n",
            "Weighted F1:  0.9793156077580576\n",
            "Balanced Accuracy:  0.9793000000000001\n"
          ]
        }
      ]
    },
    {
      "cell_type": "code",
      "source": [
        "# Training on ISI BANGLA Dataset\n",
        "img_rows, img_cols = 28 , 28\n",
        "input_shape = (img_rows, img_cols, 1)\n",
        "num_classes = 100\n",
        "loss = 'categorical_crossentropy'\n",
        "optimizer = Adam(learning_rate=0.01, clipnorm=0.001)\n",
        "metrics = ['accuracy']\n",
        "batch_size = 128\n",
        "epochs = 10\n",
        "\n",
        "checkpoint_dir = './ISIBANGLA_LeNet_MNIST_MIX/'\n",
        "input_train_test_fn = '/content/drive/MyDrive/mnist_mix_all/ISI_Bangla_train_test.npz'\n",
        "\n",
        "# load data\n",
        "X_train, y_train, X_vali, y_vali, X_test, y_test = load_dataset_with_processing(input_train_test_fn, num_classes=100)\n",
        "\n",
        "train_fn(X_train, y_train, X_vali, y_vali, input_shape, num_classes, loss, optimizer, metrics, checkpoint_dir, batch_size, epochs)"
      ],
      "metadata": {
        "colab": {
          "base_uri": "https://localhost:8080/",
          "height": 1000
        },
        "id": "utflL13epTty",
        "outputId": "ca019651-a843-4c08-a6b0-3940ee59b0da"
      },
      "execution_count": null,
      "outputs": [
        {
          "output_type": "stream",
          "name": "stdout",
          "text": [
            "(15513, 28, 28, 1)\n",
            "(3879, 28, 28, 1)\n",
            "(4000, 28, 28, 1)\n",
            "Model: \"model_35\"\n",
            "_________________________________________________________________\n",
            " Layer (type)                Output Shape              Param #   \n",
            "=================================================================\n",
            " conv2d_34_input (InputLaye  [(None, 28, 28, 1)]       0         \n",
            " r)                                                              \n",
            "                                                                 \n",
            " conv2d_34 (Conv2D)          (None, 28, 28, 20)        520       \n",
            "                                                                 \n",
            " activation_51 (Activation)  (None, 28, 28, 20)        0         \n",
            "                                                                 \n",
            " max_pooling2d_34 (MaxPooli  (None, 14, 14, 20)        0         \n",
            " ng2D)                                                           \n",
            "                                                                 \n",
            " conv2d_35 (Conv2D)          (None, 14, 14, 50)        25050     \n",
            "                                                                 \n",
            " activation_52 (Activation)  (None, 14, 14, 50)        0         \n",
            "                                                                 \n",
            " max_pooling2d_35 (MaxPooli  (None, 7, 7, 50)          0         \n",
            " ng2D)                                                           \n",
            "                                                                 \n",
            " flatten_17 (Flatten)        (None, 2450)              0         \n",
            "                                                                 \n",
            " dense_51 (Dense)            (None, 500)               1225500   \n",
            "                                                                 \n",
            " activation_53 (Activation)  (None, 500)               0         \n",
            "                                                                 \n",
            " dense_53 (Dense)            (None, 100)               50100     \n",
            "                                                                 \n",
            "=================================================================\n",
            "Total params: 1301170 (4.96 MB)\n",
            "Trainable params: 50100 (195.70 KB)\n",
            "Non-trainable params: 1251070 (4.77 MB)\n",
            "_________________________________________________________________\n",
            "Epoch 1/10\n",
            "\n",
            "Epoch 1: val_accuracy improved from -inf to 0.95746, saving model to ./ISIBANGLA_LeNet_MNIST_MIX/best_lenet.hdf5\n",
            "121/121 - 2s - loss: 0.4114 - accuracy: 0.9115 - val_loss: 0.1976 - val_accuracy: 0.9575 - 2s/epoch - 17ms/step\n",
            "Epoch 2/10\n"
          ]
        },
        {
          "output_type": "stream",
          "name": "stderr",
          "text": [
            "/usr/local/lib/python3.10/dist-packages/keras/src/engine/training.py:3103: UserWarning: You are saving your model as an HDF5 file via `model.save()`. This file format is considered legacy. We recommend using instead the native Keras format, e.g. `model.save('my_model.keras')`.\n",
            "  saving_api.save_model(\n"
          ]
        },
        {
          "output_type": "stream",
          "name": "stdout",
          "text": [
            "\n",
            "Epoch 2: val_accuracy improved from 0.95746 to 0.96236, saving model to ./ISIBANGLA_LeNet_MNIST_MIX/best_lenet.hdf5\n",
            "121/121 - 1s - loss: 0.1422 - accuracy: 0.9669 - val_loss: 0.1906 - val_accuracy: 0.9624 - 827ms/epoch - 7ms/step\n",
            "Epoch 3/10\n",
            "\n",
            "Epoch 3: val_accuracy did not improve from 0.96236\n",
            "121/121 - 1s - loss: 0.1170 - accuracy: 0.9742 - val_loss: 0.3091 - val_accuracy: 0.9441 - 766ms/epoch - 6ms/step\n",
            "Epoch 4/10\n",
            "\n",
            "Epoch 4: val_accuracy improved from 0.96236 to 0.96778, saving model to ./ISIBANGLA_LeNet_MNIST_MIX/best_lenet.hdf5\n",
            "121/121 - 1s - loss: 0.1022 - accuracy: 0.9779 - val_loss: 0.1825 - val_accuracy: 0.9678 - 734ms/epoch - 6ms/step\n",
            "Epoch 5/10\n",
            "\n",
            "Epoch 5: val_accuracy improved from 0.96778 to 0.96932, saving model to ./ISIBANGLA_LeNet_MNIST_MIX/best_lenet.hdf5\n",
            "121/121 - 1s - loss: 0.1019 - accuracy: 0.9790 - val_loss: 0.2008 - val_accuracy: 0.9693 - 736ms/epoch - 6ms/step\n",
            "Epoch 6/10\n",
            "\n",
            "Epoch 6: val_accuracy did not improve from 0.96932\n",
            "121/121 - 1s - loss: 0.0790 - accuracy: 0.9830 - val_loss: 0.2672 - val_accuracy: 0.9608 - 750ms/epoch - 6ms/step\n",
            "Epoch 7/10\n",
            "\n",
            "Epoch 7: val_accuracy improved from 0.96932 to 0.97551, saving model to ./ISIBANGLA_LeNet_MNIST_MIX/best_lenet.hdf5\n",
            "121/121 - 1s - loss: 0.0955 - accuracy: 0.9822 - val_loss: 0.1943 - val_accuracy: 0.9755 - 740ms/epoch - 6ms/step\n",
            "Epoch 8/10\n",
            "\n",
            "Epoch 8: val_accuracy did not improve from 0.97551\n",
            "121/121 - 1s - loss: 0.0701 - accuracy: 0.9853 - val_loss: 0.2026 - val_accuracy: 0.9711 - 750ms/epoch - 6ms/step\n",
            "Epoch 9/10\n",
            "\n",
            "Epoch 9: val_accuracy did not improve from 0.97551\n",
            "121/121 - 1s - loss: 0.0638 - accuracy: 0.9861 - val_loss: 0.2136 - val_accuracy: 0.9711 - 712ms/epoch - 6ms/step\n",
            "Epoch 10/10\n",
            "\n",
            "Epoch 10: val_accuracy did not improve from 0.97551\n",
            "121/121 - 1s - loss: 0.0546 - accuracy: 0.9888 - val_loss: 0.2169 - val_accuracy: 0.9732 - 706ms/epoch - 6ms/step\n"
          ]
        },
        {
          "output_type": "display_data",
          "data": {
            "text/plain": [
              "<Figure size 640x480 with 1 Axes>"
            ],
            "image/png": "[encoded data removed]"
          },
          "metadata": {}
        },
        {
          "output_type": "execute_result",
          "data": {
            "text/plain": [
              "<keras.src.engine.functional.Functional at 0x780cf8181210>"
            ]
          },
          "metadata": {},
          "execution_count": 27
        }
      ]
    },
    {
      "cell_type": "code",
      "source": [
        "# Testing the saved model on ISI BANGLA test data\n",
        "pretrained_weights = '/content/ISIBANGLA_LeNet_MNIST_MIX/best_lenet.hdf5'\n",
        "accuracies = test_fn(X_test, y_test, input_shape, num_classes, loss, optimizer, metrics, pretrained_weights)\n",
        "print('Accuracy: ', accuracies[0])\n",
        "print('Weighted F1: ', accuracies[1])\n",
        "print('Balanced Accuracy: ', accuracies[2])"
      ],
      "metadata": {
        "colab": {
          "base_uri": "https://localhost:8080/"
        },
        "id": "UDEC3gFspTby",
        "outputId": "36be5ff6-dc9c-40ca-eed2-6d7827eed536"
      },
      "execution_count": null,
      "outputs": [
        {
          "output_type": "stream",
          "name": "stdout",
          "text": [
            "Model: \"model_37\"\n",
            "_________________________________________________________________\n",
            " Layer (type)                Output Shape              Param #   \n",
            "=================================================================\n",
            " conv2d_36_input (InputLaye  [(None, 28, 28, 1)]       0         \n",
            " r)                                                              \n",
            "                                                                 \n",
            " conv2d_36 (Conv2D)          (None, 28, 28, 20)        520       \n",
            "                                                                 \n",
            " activation_54 (Activation)  (None, 28, 28, 20)        0         \n",
            "                                                                 \n",
            " max_pooling2d_36 (MaxPooli  (None, 14, 14, 20)        0         \n",
            " ng2D)                                                           \n",
            "                                                                 \n",
            " conv2d_37 (Conv2D)          (None, 14, 14, 50)        25050     \n",
            "                                                                 \n",
            " activation_55 (Activation)  (None, 14, 14, 50)        0         \n",
            "                                                                 \n",
            " max_pooling2d_37 (MaxPooli  (None, 7, 7, 50)          0         \n",
            " ng2D)                                                           \n",
            "                                                                 \n",
            " flatten_18 (Flatten)        (None, 2450)              0         \n",
            "                                                                 \n",
            " dense_54 (Dense)            (None, 500)               1225500   \n",
            "                                                                 \n",
            " activation_56 (Activation)  (None, 500)               0         \n",
            "                                                                 \n",
            " dense_56 (Dense)            (None, 100)               50100     \n",
            "                                                                 \n",
            "=================================================================\n",
            "Total params: 1301170 (4.96 MB)\n",
            "Trainable params: 50100 (195.70 KB)\n",
            "Non-trainable params: 1251070 (4.77 MB)\n",
            "_________________________________________________________________\n",
            "125/125 [==============================] - 0s 3ms/step\n",
            "Accuracy:  0.9589999914169312\n",
            "Weighted F1:  0.9590764199074884\n",
            "Balanced Accuracy:  0.959\n"
          ]
        }
      ]
    },
    {
      "cell_type": "code",
      "source": [
        "# Training on Kannada Dataset\n",
        "img_rows, img_cols = 28 , 28\n",
        "input_shape = (img_rows, img_cols, 1)\n",
        "num_classes = 100\n",
        "loss = 'categorical_crossentropy'\n",
        "optimizer = Adam(learning_rate=0.01, clipnorm=0.001)\n",
        "metrics = ['accuracy']\n",
        "batch_size = 128\n",
        "epochs = 10\n",
        "\n",
        "checkpoint_dir = './KANNADA_LeNet_MNIST_MIX/'\n",
        "input_train_test_fn = '/content/drive/MyDrive/mnist_mix_all/Kannada_train_test.npz'\n",
        "\n",
        "# load data\n",
        "X_train, y_train, X_vali, y_vali, X_test, y_test = load_dataset_with_processing(input_train_test_fn, num_classes=100)\n",
        "\n",
        "train_fn(X_train, y_train, X_vali, y_vali, input_shape, num_classes, loss, optimizer, metrics, checkpoint_dir, batch_size, epochs)"
      ],
      "metadata": {
        "colab": {
          "base_uri": "https://localhost:8080/",
          "height": 1000
        },
        "id": "f4I2LEJWpTP8",
        "outputId": "05743075-acee-43b6-804e-dfad076a183a"
      },
      "execution_count": null,
      "outputs": [
        {
          "output_type": "stream",
          "name": "stdout",
          "text": [
            "(48000, 28, 28, 1)\n",
            "(12000, 28, 28, 1)\n",
            "(20240, 28, 28, 1)\n",
            "Model: \"model_39\"\n",
            "_________________________________________________________________\n",
            " Layer (type)                Output Shape              Param #   \n",
            "=================================================================\n",
            " conv2d_38_input (InputLaye  [(None, 28, 28, 1)]       0         \n",
            " r)                                                              \n",
            "                                                                 \n",
            " conv2d_38 (Conv2D)          (None, 28, 28, 20)        520       \n",
            "                                                                 \n",
            " activation_57 (Activation)  (None, 28, 28, 20)        0         \n",
            "                                                                 \n",
            " max_pooling2d_38 (MaxPooli  (None, 14, 14, 20)        0         \n",
            " ng2D)                                                           \n",
            "                                                                 \n",
            " conv2d_39 (Conv2D)          (None, 14, 14, 50)        25050     \n",
            "                                                                 \n",
            " activation_58 (Activation)  (None, 14, 14, 50)        0         \n",
            "                                                                 \n",
            " max_pooling2d_39 (MaxPooli  (None, 7, 7, 50)          0         \n",
            " ng2D)                                                           \n",
            "                                                                 \n",
            " flatten_19 (Flatten)        (None, 2450)              0         \n",
            "                                                                 \n",
            " dense_57 (Dense)            (None, 500)               1225500   \n",
            "                                                                 \n",
            " activation_59 (Activation)  (None, 500)               0         \n",
            "                                                                 \n",
            " dense_59 (Dense)            (None, 100)               50100     \n",
            "                                                                 \n",
            "=================================================================\n",
            "Total params: 1301170 (4.96 MB)\n",
            "Trainable params: 50100 (195.70 KB)\n",
            "Non-trainable params: 1251070 (4.77 MB)\n",
            "_________________________________________________________________\n",
            "Epoch 1/10\n",
            "\n",
            "Epoch 1: val_accuracy improved from -inf to 0.98783, saving model to ./KANNADA_LeNet_MNIST_MIX/best_lenet.hdf5\n",
            "375/375 - 3s - loss: 0.1234 - accuracy: 0.9735 - val_loss: 0.0663 - val_accuracy: 0.9878 - 3s/epoch - 9ms/step\n",
            "Epoch 2/10\n"
          ]
        },
        {
          "output_type": "stream",
          "name": "stderr",
          "text": [
            "/usr/local/lib/python3.10/dist-packages/keras/src/engine/training.py:3103: UserWarning: You are saving your model as an HDF5 file via `model.save()`. This file format is considered legacy. We recommend using instead the native Keras format, e.g. `model.save('my_model.keras')`.\n",
            "  saving_api.save_model(\n"
          ]
        },
        {
          "output_type": "stream",
          "name": "stdout",
          "text": [
            "\n",
            "Epoch 2: val_accuracy improved from 0.98783 to 0.98975, saving model to ./KANNADA_LeNet_MNIST_MIX/best_lenet.hdf5\n",
            "375/375 - 3s - loss: 0.0634 - accuracy: 0.9888 - val_loss: 0.0637 - val_accuracy: 0.9898 - 3s/epoch - 8ms/step\n",
            "Epoch 3/10\n",
            "\n",
            "Epoch 3: val_accuracy did not improve from 0.98975\n",
            "375/375 - 2s - loss: 0.0613 - accuracy: 0.9905 - val_loss: 0.0666 - val_accuracy: 0.9898 - 2s/epoch - 6ms/step\n",
            "Epoch 4/10\n",
            "\n",
            "Epoch 4: val_accuracy improved from 0.98975 to 0.99050, saving model to ./KANNADA_LeNet_MNIST_MIX/best_lenet.hdf5\n",
            "375/375 - 2s - loss: 0.0571 - accuracy: 0.9915 - val_loss: 0.0705 - val_accuracy: 0.9905 - 2s/epoch - 5ms/step\n",
            "Epoch 5/10\n",
            "\n",
            "Epoch 5: val_accuracy improved from 0.99050 to 0.99083, saving model to ./KANNADA_LeNet_MNIST_MIX/best_lenet.hdf5\n",
            "375/375 - 3s - loss: 0.0445 - accuracy: 0.9935 - val_loss: 0.0716 - val_accuracy: 0.9908 - 3s/epoch - 7ms/step\n",
            "Epoch 6/10\n",
            "\n",
            "Epoch 6: val_accuracy did not improve from 0.99083\n",
            "375/375 - 3s - loss: 0.0421 - accuracy: 0.9943 - val_loss: 0.0914 - val_accuracy: 0.9906 - 3s/epoch - 7ms/step\n",
            "Epoch 7/10\n",
            "\n",
            "Epoch 7: val_accuracy improved from 0.99083 to 0.99133, saving model to ./KANNADA_LeNet_MNIST_MIX/best_lenet.hdf5\n",
            "375/375 - 3s - loss: 0.0419 - accuracy: 0.9942 - val_loss: 0.0750 - val_accuracy: 0.9913 - 3s/epoch - 7ms/step\n",
            "Epoch 8/10\n",
            "\n",
            "Epoch 8: val_accuracy did not improve from 0.99133\n",
            "375/375 - 3s - loss: 0.0354 - accuracy: 0.9950 - val_loss: 0.0926 - val_accuracy: 0.9895 - 3s/epoch - 8ms/step\n",
            "Epoch 9/10\n",
            "\n",
            "Epoch 9: val_accuracy improved from 0.99133 to 0.99283, saving model to ./KANNADA_LeNet_MNIST_MIX/best_lenet.hdf5\n",
            "375/375 - 2s - loss: 0.0401 - accuracy: 0.9948 - val_loss: 0.0735 - val_accuracy: 0.9928 - 2s/epoch - 6ms/step\n",
            "Epoch 10/10\n",
            "\n",
            "Epoch 10: val_accuracy improved from 0.99283 to 0.99300, saving model to ./KANNADA_LeNet_MNIST_MIX/best_lenet.hdf5\n",
            "375/375 - 3s - loss: 0.0297 - accuracy: 0.9959 - val_loss: 0.0780 - val_accuracy: 0.9930 - 3s/epoch - 7ms/step\n"
          ]
        },
        {
          "output_type": "display_data",
          "data": {
            "text/plain": [
              "<Figure size 640x480 with 1 Axes>"
            ],
            "image/png": "[encoded data removed]"
          },
          "metadata": {}
        },
        {
          "output_type": "execute_result",
          "data": {
            "text/plain": [
              "<keras.src.engine.functional.Functional at 0x780cb46c5db0>"
            ]
          },
          "metadata": {},
          "execution_count": 29
        }
      ]
    },
    {
      "cell_type": "code",
      "source": [
        "# Testing the saved model on kannada test data\n",
        "pretrained_weights = '/content/KANNADA_LeNet_MNIST_MIX/best_lenet.hdf5'\n",
        "accuracies = test_fn(X_test, y_test, input_shape, num_classes, loss, optimizer, metrics, pretrained_weights)\n",
        "print('Accuracy: ', accuracies[0])\n",
        "print('Weighted F1: ', accuracies[1])\n",
        "print('Balanced Accuracy: ', accuracies[2])"
      ],
      "metadata": {
        "colab": {
          "base_uri": "https://localhost:8080/"
        },
        "id": "W1U8vTfxpSor",
        "outputId": "8099ed77-8d3f-4bfe-aa69-48bf34f5990f"
      },
      "execution_count": null,
      "outputs": [
        {
          "output_type": "stream",
          "name": "stdout",
          "text": [
            "Model: \"model_43\"\n",
            "_________________________________________________________________\n",
            " Layer (type)                Output Shape              Param #   \n",
            "=================================================================\n",
            " conv2d_42_input (InputLaye  [(None, 28, 28, 1)]       0         \n",
            " r)                                                              \n",
            "                                                                 \n",
            " conv2d_42 (Conv2D)          (None, 28, 28, 20)        520       \n",
            "                                                                 \n",
            " activation_63 (Activation)  (None, 28, 28, 20)        0         \n",
            "                                                                 \n",
            " max_pooling2d_42 (MaxPooli  (None, 14, 14, 20)        0         \n",
            " ng2D)                                                           \n",
            "                                                                 \n",
            " conv2d_43 (Conv2D)          (None, 14, 14, 50)        25050     \n",
            "                                                                 \n",
            " activation_64 (Activation)  (None, 14, 14, 50)        0         \n",
            "                                                                 \n",
            " max_pooling2d_43 (MaxPooli  (None, 7, 7, 50)          0         \n",
            " ng2D)                                                           \n",
            "                                                                 \n",
            " flatten_21 (Flatten)        (None, 2450)              0         \n",
            "                                                                 \n",
            " dense_63 (Dense)            (None, 500)               1225500   \n",
            "                                                                 \n",
            " activation_65 (Activation)  (None, 500)               0         \n",
            "                                                                 \n",
            " dense_65 (Dense)            (None, 100)               50100     \n",
            "                                                                 \n",
            "=================================================================\n",
            "Total params: 1301170 (4.96 MB)\n",
            "Trainable params: 50100 (195.70 KB)\n",
            "Non-trainable params: 1251070 (4.77 MB)\n",
            "_________________________________________________________________\n",
            "633/633 [==============================] - 1s 2ms/step\n",
            "Accuracy:  0.8627470135688782\n",
            "Weighted F1:  0.8634321209779058\n",
            "Balanced Accuracy:  0.8627470355731225\n"
          ]
        },
        {
          "output_type": "stream",
          "name": "stderr",
          "text": [
            "/usr/local/lib/python3.10/dist-packages/sklearn/metrics/_classification.py:2184: UserWarning: y_pred contains classes not in y_true\n",
            "  warnings.warn(\"y_pred contains classes not in y_true\")\n"
          ]
        }
      ]
    },
    {
      "cell_type": "code",
      "source": [
        "# Training on MADBASE Dataset\n",
        "img_rows, img_cols = 28 , 28\n",
        "input_shape = (img_rows, img_cols, 1)\n",
        "num_classes = 100\n",
        "loss = 'categorical_crossentropy'\n",
        "optimizer = Adam(learning_rate=0.01, clipnorm=0.001)\n",
        "metrics = ['accuracy']\n",
        "batch_size = 128\n",
        "epochs = 10\n",
        "\n",
        "checkpoint_dir = './MADBASE_LeNet_MNIST_MIX/'\n",
        "input_train_test_fn = '/content/drive/MyDrive/mnist_mix_all/MADBase_train_test.npz'\n",
        "\n",
        "# load data\n",
        "X_train, y_train, X_vali, y_vali, X_test, y_test = load_dataset_with_processing(input_train_test_fn, num_classes=100)\n",
        "\n",
        "train_fn(X_train, y_train, X_vali, y_vali, input_shape, num_classes, loss, optimizer, metrics, checkpoint_dir, batch_size, epochs)"
      ],
      "metadata": {
        "colab": {
          "base_uri": "https://localhost:8080/",
          "height": 1000
        },
        "id": "EAVtAr87pSYf",
        "outputId": "994bb7e6-30ec-4a01-94b0-07d173fe7cdb"
      },
      "execution_count": null,
      "outputs": [
        {
          "output_type": "stream",
          "name": "stdout",
          "text": [
            "(48000, 28, 28, 1)\n",
            "(12000, 28, 28, 1)\n",
            "(10000, 28, 28, 1)\n",
            "Model: \"model_45\"\n",
            "_________________________________________________________________\n",
            " Layer (type)                Output Shape              Param #   \n",
            "=================================================================\n",
            " conv2d_44_input (InputLaye  [(None, 28, 28, 1)]       0         \n",
            " r)                                                              \n",
            "                                                                 \n",
            " conv2d_44 (Conv2D)          (None, 28, 28, 20)        520       \n",
            "                                                                 \n",
            " activation_66 (Activation)  (None, 28, 28, 20)        0         \n",
            "                                                                 \n",
            " max_pooling2d_44 (MaxPooli  (None, 14, 14, 20)        0         \n",
            " ng2D)                                                           \n",
            "                                                                 \n",
            " conv2d_45 (Conv2D)          (None, 14, 14, 50)        25050     \n",
            "                                                                 \n",
            " activation_67 (Activation)  (None, 14, 14, 50)        0         \n",
            "                                                                 \n",
            " max_pooling2d_45 (MaxPooli  (None, 7, 7, 50)          0         \n",
            " ng2D)                                                           \n",
            "                                                                 \n",
            " flatten_22 (Flatten)        (None, 2450)              0         \n",
            "                                                                 \n",
            " dense_66 (Dense)            (None, 500)               1225500   \n",
            "                                                                 \n",
            " activation_68 (Activation)  (None, 500)               0         \n",
            "                                                                 \n",
            " dense_68 (Dense)            (None, 100)               50100     \n",
            "                                                                 \n",
            "=================================================================\n",
            "Total params: 1301170 (4.96 MB)\n",
            "Trainable params: 50100 (195.70 KB)\n",
            "Non-trainable params: 1251070 (4.77 MB)\n",
            "_________________________________________________________________\n",
            "Epoch 1/10\n",
            "\n",
            "Epoch 1: val_accuracy improved from -inf to 0.98958, saving model to ./MADBASE_LeNet_MNIST_MIX/best_lenet.hdf5\n",
            "375/375 - 3s - loss: 0.1204 - accuracy: 0.9799 - val_loss: 0.1061 - val_accuracy: 0.9896 - 3s/epoch - 8ms/step\n",
            "Epoch 2/10\n"
          ]
        },
        {
          "output_type": "stream",
          "name": "stderr",
          "text": [
            "/usr/local/lib/python3.10/dist-packages/keras/src/engine/training.py:3103: UserWarning: You are saving your model as an HDF5 file via `model.save()`. This file format is considered legacy. We recommend using instead the native Keras format, e.g. `model.save('my_model.keras')`.\n",
            "  saving_api.save_model(\n"
          ]
        },
        {
          "output_type": "stream",
          "name": "stdout",
          "text": [
            "\n",
            "Epoch 2: val_accuracy improved from 0.98958 to 0.99017, saving model to ./MADBASE_LeNet_MNIST_MIX/best_lenet.hdf5\n",
            "375/375 - 3s - loss: 0.0864 - accuracy: 0.9907 - val_loss: 0.1285 - val_accuracy: 0.9902 - 3s/epoch - 7ms/step\n",
            "Epoch 3/10\n",
            "\n",
            "Epoch 3: val_accuracy did not improve from 0.99017\n",
            "375/375 - 4s - loss: 0.0784 - accuracy: 0.9927 - val_loss: 0.1232 - val_accuracy: 0.9897 - 4s/epoch - 10ms/step\n",
            "Epoch 4/10\n",
            "\n",
            "Epoch 4: val_accuracy improved from 0.99017 to 0.99308, saving model to ./MADBASE_LeNet_MNIST_MIX/best_lenet.hdf5\n",
            "375/375 - 4s - loss: 0.0659 - accuracy: 0.9941 - val_loss: 0.1067 - val_accuracy: 0.9931 - 4s/epoch - 10ms/step\n",
            "Epoch 5/10\n",
            "\n",
            "Epoch 5: val_accuracy did not improve from 0.99308\n",
            "375/375 - 3s - loss: 0.0606 - accuracy: 0.9945 - val_loss: 0.1486 - val_accuracy: 0.9912 - 3s/epoch - 8ms/step\n",
            "Epoch 6/10\n",
            "\n",
            "Epoch 6: val_accuracy did not improve from 0.99308\n",
            "375/375 - 2s - loss: 0.0568 - accuracy: 0.9948 - val_loss: 0.1483 - val_accuracy: 0.9923 - 2s/epoch - 6ms/step\n",
            "Epoch 7/10\n",
            "\n",
            "Epoch 7: val_accuracy did not improve from 0.99308\n",
            "375/375 - 3s - loss: 0.0584 - accuracy: 0.9954 - val_loss: 0.1342 - val_accuracy: 0.9915 - 3s/epoch - 8ms/step\n",
            "Epoch 8/10\n",
            "\n",
            "Epoch 8: val_accuracy did not improve from 0.99308\n",
            "375/375 - 3s - loss: 0.0544 - accuracy: 0.9952 - val_loss: 0.1603 - val_accuracy: 0.9927 - 3s/epoch - 7ms/step\n",
            "Epoch 9/10\n",
            "\n",
            "Epoch 9: val_accuracy did not improve from 0.99308\n",
            "375/375 - 2s - loss: 0.0552 - accuracy: 0.9953 - val_loss: 0.1850 - val_accuracy: 0.9909 - 2s/epoch - 7ms/step\n",
            "Epoch 10/10\n",
            "\n",
            "Epoch 10: val_accuracy improved from 0.99308 to 0.99325, saving model to ./MADBASE_LeNet_MNIST_MIX/best_lenet.hdf5\n",
            "375/375 - 3s - loss: 0.0487 - accuracy: 0.9961 - val_loss: 0.1551 - val_accuracy: 0.9933 - 3s/epoch - 9ms/step\n"
          ]
        },
        {
          "output_type": "display_data",
          "data": {
            "text/plain": [
              "<Figure size 640x480 with 1 Axes>"
            ],
            "image/png": "[encoded data removed]"
          },
          "metadata": {}
        },
        {
          "output_type": "execute_result",
          "data": {
            "text/plain": [
              "<keras.src.engine.functional.Functional at 0x780cb42f0e20>"
            ]
          },
          "metadata": {},
          "execution_count": 32
        }
      ]
    },
    {
      "cell_type": "code",
      "source": [
        "# Testing the saved model on MADBASE test data\n",
        "pretrained_weights = '/content/MADBASE_LeNet_MNIST_MIX/best_lenet.hdf5'\n",
        "accuracies = test_fn(X_test, y_test, input_shape, num_classes, loss, optimizer, metrics, pretrained_weights)\n",
        "print('Accuracy: ', accuracies[0])\n",
        "print('Weighted F1: ', accuracies[1])\n",
        "print('Balanced Accuracy: ', accuracies[2])"
      ],
      "metadata": {
        "colab": {
          "base_uri": "https://localhost:8080/"
        },
        "id": "0BBTtjMFpSMv",
        "outputId": "aa3153a1-b3a5-4ffe-8462-0b96d8957e31"
      },
      "execution_count": null,
      "outputs": [
        {
          "output_type": "stream",
          "name": "stdout",
          "text": [
            "Model: \"model_47\"\n",
            "_________________________________________________________________\n",
            " Layer (type)                Output Shape              Param #   \n",
            "=================================================================\n",
            " conv2d_46_input (InputLaye  [(None, 28, 28, 1)]       0         \n",
            " r)                                                              \n",
            "                                                                 \n",
            " conv2d_46 (Conv2D)          (None, 28, 28, 20)        520       \n",
            "                                                                 \n",
            " activation_69 (Activation)  (None, 28, 28, 20)        0         \n",
            "                                                                 \n",
            " max_pooling2d_46 (MaxPooli  (None, 14, 14, 20)        0         \n",
            " ng2D)                                                           \n",
            "                                                                 \n",
            " conv2d_47 (Conv2D)          (None, 14, 14, 50)        25050     \n",
            "                                                                 \n",
            " activation_70 (Activation)  (None, 14, 14, 50)        0         \n",
            "                                                                 \n",
            " max_pooling2d_47 (MaxPooli  (None, 7, 7, 50)          0         \n",
            " ng2D)                                                           \n",
            "                                                                 \n",
            " flatten_23 (Flatten)        (None, 2450)              0         \n",
            "                                                                 \n",
            " dense_69 (Dense)            (None, 500)               1225500   \n",
            "                                                                 \n",
            " activation_71 (Activation)  (None, 500)               0         \n",
            "                                                                 \n",
            " dense_71 (Dense)            (None, 100)               50100     \n",
            "                                                                 \n",
            "=================================================================\n",
            "Total params: 1301170 (4.96 MB)\n",
            "Trainable params: 50100 (195.70 KB)\n",
            "Non-trainable params: 1251070 (4.77 MB)\n",
            "_________________________________________________________________\n",
            "313/313 [==============================] - 1s 2ms/step\n",
            "Accuracy:  0.9897000193595886\n",
            "Weighted F1:  0.989682964890391\n",
            "Balanced Accuracy:  0.9897\n"
          ]
        }
      ]
    },
    {
      "cell_type": "code",
      "source": [
        "# Training on CMATTERDB 3.4.1 Dataset\n",
        "img_rows, img_cols = 28 , 28\n",
        "input_shape = (img_rows, img_cols, 1)\n",
        "num_classes = 100\n",
        "loss = 'categorical_crossentropy'\n",
        "optimizer = Adam(learning_rate=0.01, clipnorm=0.001)\n",
        "metrics = ['accuracy']\n",
        "batch_size = 128\n",
        "epochs = 10\n",
        "\n",
        "checkpoint_dir = './TELUGU_LeNet_MNIST_MIX/'\n",
        "input_train_test_fn = '/content/drive/MyDrive/mnist_mix_all/Telugu_train_test.npz'\n",
        "\n",
        "# load data\n",
        "X_train, y_train, X_vali, y_vali, X_test, y_test = load_dataset_with_processing(input_train_test_fn, num_classes=100)\n",
        "\n",
        "train_fn(X_train, y_train, X_vali, y_vali, input_shape, num_classes, loss, optimizer, metrics, checkpoint_dir, batch_size, epochs)"
      ],
      "metadata": {
        "colab": {
          "base_uri": "https://localhost:8080/",
          "height": 1000
        },
        "id": "WIvggBRfstw2",
        "outputId": "2de2fbbc-b991-4772-ac1b-10ac6ee691ea"
      },
      "execution_count": null,
      "outputs": [
        {
          "output_type": "stream",
          "name": "stdout",
          "text": [
            "(1920, 28, 28, 1)\n",
            "(480, 28, 28, 1)\n",
            "(600, 28, 28, 1)\n",
            "Model: \"model_49\"\n",
            "_________________________________________________________________\n",
            " Layer (type)                Output Shape              Param #   \n",
            "=================================================================\n",
            " conv2d_48_input (InputLaye  [(None, 28, 28, 1)]       0         \n",
            " r)                                                              \n",
            "                                                                 \n",
            " conv2d_48 (Conv2D)          (None, 28, 28, 20)        520       \n",
            "                                                                 \n",
            " activation_72 (Activation)  (None, 28, 28, 20)        0         \n",
            "                                                                 \n",
            " max_pooling2d_48 (MaxPooli  (None, 14, 14, 20)        0         \n",
            " ng2D)                                                           \n",
            "                                                                 \n",
            " conv2d_49 (Conv2D)          (None, 14, 14, 50)        25050     \n",
            "                                                                 \n",
            " activation_73 (Activation)  (None, 14, 14, 50)        0         \n",
            "                                                                 \n",
            " max_pooling2d_49 (MaxPooli  (None, 7, 7, 50)          0         \n",
            " ng2D)                                                           \n",
            "                                                                 \n",
            " flatten_24 (Flatten)        (None, 2450)              0         \n",
            "                                                                 \n",
            " dense_72 (Dense)            (None, 500)               1225500   \n",
            "                                                                 \n",
            " activation_74 (Activation)  (None, 500)               0         \n",
            "                                                                 \n",
            " dense_74 (Dense)            (None, 100)               50100     \n",
            "                                                                 \n",
            "=================================================================\n",
            "Total params: 1301170 (4.96 MB)\n",
            "Trainable params: 50100 (195.70 KB)\n",
            "Non-trainable params: 1251070 (4.77 MB)\n",
            "_________________________________________________________________\n",
            "Epoch 1/10\n",
            "\n",
            "Epoch 1: val_accuracy improved from -inf to 0.93958, saving model to ./TELUGU_LeNet_MNIST_MIX/best_lenet.hdf5\n",
            "15/15 - 1s - loss: 2.3201 - accuracy: 0.6635 - val_loss: 0.2049 - val_accuracy: 0.9396 - 872ms/epoch - 58ms/step\n",
            "Epoch 2/10\n",
            "\n",
            "Epoch 2: val_accuracy improved from 0.93958 to 0.95625, saving model to ./TELUGU_LeNet_MNIST_MIX/best_lenet.hdf5\n",
            "15/15 - 0s - loss: 0.1380 - accuracy: 0.9630 - val_loss: 0.1674 - val_accuracy: 0.9563 - 138ms/epoch - 9ms/step\n",
            "Epoch 3/10\n"
          ]
        },
        {
          "output_type": "stream",
          "name": "stderr",
          "text": [
            "/usr/local/lib/python3.10/dist-packages/keras/src/engine/training.py:3103: UserWarning: You are saving your model as an HDF5 file via `model.save()`. This file format is considered legacy. We recommend using instead the native Keras format, e.g. `model.save('my_model.keras')`.\n",
            "  saving_api.save_model(\n"
          ]
        },
        {
          "output_type": "stream",
          "name": "stdout",
          "text": [
            "\n",
            "Epoch 3: val_accuracy did not improve from 0.95625\n",
            "15/15 - 0s - loss: 0.0693 - accuracy: 0.9797 - val_loss: 0.1859 - val_accuracy: 0.9542 - 156ms/epoch - 10ms/step\n",
            "Epoch 4/10\n",
            "\n",
            "Epoch 4: val_accuracy improved from 0.95625 to 0.96875, saving model to ./TELUGU_LeNet_MNIST_MIX/best_lenet.hdf5\n",
            "15/15 - 0s - loss: 0.0319 - accuracy: 0.9880 - val_loss: 0.1410 - val_accuracy: 0.9688 - 138ms/epoch - 9ms/step\n",
            "Epoch 5/10\n",
            "\n",
            "Epoch 5: val_accuracy did not improve from 0.96875\n",
            "15/15 - 0s - loss: 0.0237 - accuracy: 0.9922 - val_loss: 0.1810 - val_accuracy: 0.9583 - 112ms/epoch - 7ms/step\n",
            "Epoch 6/10\n",
            "\n",
            "Epoch 6: val_accuracy did not improve from 0.96875\n",
            "15/15 - 0s - loss: 0.0179 - accuracy: 0.9927 - val_loss: 0.1742 - val_accuracy: 0.9604 - 171ms/epoch - 11ms/step\n",
            "Epoch 7/10\n",
            "\n",
            "Epoch 7: val_accuracy did not improve from 0.96875\n",
            "15/15 - 0s - loss: 0.0189 - accuracy: 0.9932 - val_loss: 0.1980 - val_accuracy: 0.9625 - 162ms/epoch - 11ms/step\n",
            "Epoch 8/10\n",
            "\n",
            "Epoch 8: val_accuracy did not improve from 0.96875\n",
            "15/15 - 0s - loss: 0.0236 - accuracy: 0.9937 - val_loss: 0.1942 - val_accuracy: 0.9604 - 155ms/epoch - 10ms/step\n",
            "Epoch 9/10\n",
            "\n",
            "Epoch 9: val_accuracy did not improve from 0.96875\n",
            "15/15 - 0s - loss: 0.0066 - accuracy: 0.9979 - val_loss: 0.2442 - val_accuracy: 0.9542 - 179ms/epoch - 12ms/step\n",
            "Epoch 10/10\n",
            "\n",
            "Epoch 10: val_accuracy improved from 0.96875 to 0.97083, saving model to ./TELUGU_LeNet_MNIST_MIX/best_lenet.hdf5\n",
            "15/15 - 0s - loss: 0.0069 - accuracy: 0.9990 - val_loss: 0.1803 - val_accuracy: 0.9708 - 192ms/epoch - 13ms/step\n"
          ]
        },
        {
          "output_type": "display_data",
          "data": {
            "text/plain": [
              "<Figure size 640x480 with 1 Axes>"
            ],
            "image/png": "[encoded data removed]"
          },
          "metadata": {}
        },
        {
          "output_type": "execute_result",
          "data": {
            "text/plain": [
              "<keras.src.engine.functional.Functional at 0x780cac77dcc0>"
            ]
          },
          "metadata": {},
          "execution_count": 34
        }
      ]
    },
    {
      "cell_type": "code",
      "source": [
        "# Testing the saved model on CMATTERDB 3.4.1 test data\n",
        "pretrained_weights = '/content/TELUGU_LeNet_MNIST_MIX/best_lenet.hdf5'\n",
        "accuracies = test_fn(X_test, y_test, input_shape, num_classes, loss, optimizer, metrics, pretrained_weights)\n",
        "print('Accuracy: ', accuracies[0])\n",
        "print('Weighted F1: ', accuracies[1])\n",
        "print('Balanced Accuracy: ', accuracies[2])"
      ],
      "metadata": {
        "colab": {
          "base_uri": "https://localhost:8080/"
        },
        "id": "UeOehLQisteH",
        "outputId": "e7051fc7-36e6-4a9b-f3ba-bb273ddab62f"
      },
      "execution_count": null,
      "outputs": [
        {
          "output_type": "stream",
          "name": "stdout",
          "text": [
            "Model: \"model_51\"\n",
            "_________________________________________________________________\n",
            " Layer (type)                Output Shape              Param #   \n",
            "=================================================================\n",
            " conv2d_50_input (InputLaye  [(None, 28, 28, 1)]       0         \n",
            " r)                                                              \n",
            "                                                                 \n",
            " conv2d_50 (Conv2D)          (None, 28, 28, 20)        520       \n",
            "                                                                 \n",
            " activation_75 (Activation)  (None, 28, 28, 20)        0         \n",
            "                                                                 \n",
            " max_pooling2d_50 (MaxPooli  (None, 14, 14, 20)        0         \n",
            " ng2D)                                                           \n",
            "                                                                 \n",
            " conv2d_51 (Conv2D)          (None, 14, 14, 50)        25050     \n",
            "                                                                 \n",
            " activation_76 (Activation)  (None, 14, 14, 50)        0         \n",
            "                                                                 \n",
            " max_pooling2d_51 (MaxPooli  (None, 7, 7, 50)          0         \n",
            " ng2D)                                                           \n",
            "                                                                 \n",
            " flatten_25 (Flatten)        (None, 2450)              0         \n",
            "                                                                 \n",
            " dense_75 (Dense)            (None, 500)               1225500   \n",
            "                                                                 \n",
            " activation_77 (Activation)  (None, 500)               0         \n",
            "                                                                 \n",
            " dense_77 (Dense)            (None, 100)               50100     \n",
            "                                                                 \n",
            "=================================================================\n",
            "Total params: 1301170 (4.96 MB)\n",
            "Trainable params: 50100 (195.70 KB)\n",
            "Non-trainable params: 1251070 (4.77 MB)\n",
            "_________________________________________________________________\n",
            "19/19 [==============================] - 0s 2ms/step\n",
            "Accuracy:  0.9649999737739563\n",
            "Weighted F1:  0.9649212090197585\n",
            "Balanced Accuracy:  0.9649999999999999\n"
          ]
        }
      ]
    },
    {
      "cell_type": "code",
      "source": [
        "# Training on Tibetan Dataset\n",
        "img_rows, img_cols = 28 , 28\n",
        "input_shape = (img_rows, img_cols, 1)\n",
        "num_classes = 100\n",
        "loss = 'categorical_crossentropy'\n",
        "optimizer = Adam(learning_rate=0.01, clipnorm=0.001)\n",
        "metrics = ['accuracy']\n",
        "batch_size = 128\n",
        "epochs = 10\n",
        "\n",
        "checkpoint_dir = './TIBETAN_LeNet_MNIST_MIX/'\n",
        "input_train_test_fn = '/content/drive/MyDrive/mnist_mix_all/Tibetan_train_test.npz'\n",
        "\n",
        "# load data\n",
        "X_train, y_train, X_vali, y_vali, X_test, y_test = load_dataset_with_processing(input_train_test_fn, num_classes=100)\n",
        "\n",
        "train_fn(X_train, y_train, X_vali, y_vali, input_shape, num_classes, loss, optimizer, metrics, checkpoint_dir, batch_size, epochs)"
      ],
      "metadata": {
        "colab": {
          "base_uri": "https://localhost:8080/",
          "height": 1000
        },
        "id": "LV8ULpz6stLr",
        "outputId": "0d76b97c-6bad-471e-fd75-6649a95632bb"
      },
      "execution_count": null,
      "outputs": [
        {
          "output_type": "stream",
          "name": "stdout",
          "text": [
            "(11371, 28, 28, 1)\n",
            "(2843, 28, 28, 1)\n",
            "(3554, 28, 28, 1)\n",
            "Model: \"model_53\"\n",
            "_________________________________________________________________\n",
            " Layer (type)                Output Shape              Param #   \n",
            "=================================================================\n",
            " conv2d_52_input (InputLaye  [(None, 28, 28, 1)]       0         \n",
            " r)                                                              \n",
            "                                                                 \n",
            " conv2d_52 (Conv2D)          (None, 28, 28, 20)        520       \n",
            "                                                                 \n",
            " activation_78 (Activation)  (None, 28, 28, 20)        0         \n",
            "                                                                 \n",
            " max_pooling2d_52 (MaxPooli  (None, 14, 14, 20)        0         \n",
            " ng2D)                                                           \n",
            "                                                                 \n",
            " conv2d_53 (Conv2D)          (None, 14, 14, 50)        25050     \n",
            "                                                                 \n",
            " activation_79 (Activation)  (None, 14, 14, 50)        0         \n",
            "                                                                 \n",
            " max_pooling2d_53 (MaxPooli  (None, 7, 7, 50)          0         \n",
            " ng2D)                                                           \n",
            "                                                                 \n",
            " flatten_26 (Flatten)        (None, 2450)              0         \n",
            "                                                                 \n",
            " dense_78 (Dense)            (None, 500)               1225500   \n",
            "                                                                 \n",
            " activation_80 (Activation)  (None, 500)               0         \n",
            "                                                                 \n",
            " dense_80 (Dense)            (None, 100)               50100     \n",
            "                                                                 \n",
            "=================================================================\n",
            "Total params: 1301170 (4.96 MB)\n",
            "Trainable params: 50100 (195.70 KB)\n",
            "Non-trainable params: 1251070 (4.77 MB)\n",
            "_________________________________________________________________\n",
            "Epoch 1/10\n",
            "\n",
            "Epoch 1: val_accuracy improved from -inf to 0.95990, saving model to ./TIBETAN_LeNet_MNIST_MIX/best_lenet.hdf5\n",
            "88/88 - 1s - loss: 0.4402 - accuracy: 0.9091 - val_loss: 0.1987 - val_accuracy: 0.9599 - 1s/epoch - 16ms/step\n",
            "Epoch 2/10\n"
          ]
        },
        {
          "output_type": "stream",
          "name": "stderr",
          "text": [
            "/usr/local/lib/python3.10/dist-packages/keras/src/engine/training.py:3103: UserWarning: You are saving your model as an HDF5 file via `model.save()`. This file format is considered legacy. We recommend using instead the native Keras format, e.g. `model.save('my_model.keras')`.\n",
            "  saving_api.save_model(\n"
          ]
        },
        {
          "output_type": "stream",
          "name": "stdout",
          "text": [
            "\n",
            "Epoch 2: val_accuracy did not improve from 0.95990\n",
            "88/88 - 1s - loss: 0.1500 - accuracy: 0.9658 - val_loss: 0.2285 - val_accuracy: 0.9504 - 525ms/epoch - 6ms/step\n",
            "Epoch 3/10\n",
            "\n",
            "Epoch 3: val_accuracy improved from 0.95990 to 0.96905, saving model to ./TIBETAN_LeNet_MNIST_MIX/best_lenet.hdf5\n",
            "88/88 - 1s - loss: 0.1146 - accuracy: 0.9724 - val_loss: 0.1810 - val_accuracy: 0.9690 - 651ms/epoch - 7ms/step\n",
            "Epoch 4/10\n",
            "\n",
            "Epoch 4: val_accuracy improved from 0.96905 to 0.97292, saving model to ./TIBETAN_LeNet_MNIST_MIX/best_lenet.hdf5\n",
            "88/88 - 1s - loss: 0.1000 - accuracy: 0.9784 - val_loss: 0.1705 - val_accuracy: 0.9729 - 542ms/epoch - 6ms/step\n",
            "Epoch 5/10\n",
            "\n",
            "Epoch 5: val_accuracy did not improve from 0.97292\n",
            "88/88 - 1s - loss: 0.0937 - accuracy: 0.9790 - val_loss: 0.1810 - val_accuracy: 0.9708 - 625ms/epoch - 7ms/step\n",
            "Epoch 6/10\n",
            "\n",
            "Epoch 6: val_accuracy improved from 0.97292 to 0.97503, saving model to ./TIBETAN_LeNet_MNIST_MIX/best_lenet.hdf5\n",
            "88/88 - 1s - loss: 0.0825 - accuracy: 0.9816 - val_loss: 0.1844 - val_accuracy: 0.9750 - 552ms/epoch - 6ms/step\n",
            "Epoch 7/10\n",
            "\n",
            "Epoch 7: val_accuracy did not improve from 0.97503\n",
            "88/88 - 1s - loss: 0.0628 - accuracy: 0.9861 - val_loss: 0.2164 - val_accuracy: 0.9701 - 520ms/epoch - 6ms/step\n",
            "Epoch 8/10\n",
            "\n",
            "Epoch 8: val_accuracy did not improve from 0.97503\n",
            "88/88 - 1s - loss: 0.0648 - accuracy: 0.9857 - val_loss: 0.1738 - val_accuracy: 0.9750 - 1s/epoch - 13ms/step\n",
            "Epoch 9/10\n",
            "\n",
            "Epoch 9: val_accuracy improved from 0.97503 to 0.97538, saving model to ./TIBETAN_LeNet_MNIST_MIX/best_lenet.hdf5\n",
            "88/88 - 1s - loss: 0.0708 - accuracy: 0.9835 - val_loss: 0.1841 - val_accuracy: 0.9754 - 1s/epoch - 17ms/step\n",
            "Epoch 10/10\n",
            "\n",
            "Epoch 10: val_accuracy did not improve from 0.97538\n",
            "88/88 - 1s - loss: 0.0708 - accuracy: 0.9873 - val_loss: 0.2338 - val_accuracy: 0.9712 - 1s/epoch - 16ms/step\n"
          ]
        },
        {
          "output_type": "display_data",
          "data": {
            "text/plain": [
              "<Figure size 640x480 with 1 Axes>"
            ],
            "image/png": "[encoded data removed]"
          },
          "metadata": {}
        },
        {
          "output_type": "execute_result",
          "data": {
            "text/plain": [
              "<keras.src.engine.functional.Functional at 0x780cb46cfa90>"
            ]
          },
          "metadata": {},
          "execution_count": 36
        }
      ]
    },
    {
      "cell_type": "code",
      "source": [
        "# Testing the saved model on TIBETAN test data\n",
        "pretrained_weights = '/content/TIBETAN_LeNet_MNIST_MIX/best_lenet.hdf5'\n",
        "accuracies = test_fn(X_test, y_test, input_shape, num_classes, loss, optimizer, metrics, pretrained_weights)\n",
        "print('Accuracy: ', accuracies[0])\n",
        "print('Weighted F1: ', accuracies[1])\n",
        "print('Balanced Accuracy: ', accuracies[2])"
      ],
      "metadata": {
        "colab": {
          "base_uri": "https://localhost:8080/"
        },
        "id": "vobtgd19ss3v",
        "outputId": "af613615-819e-4c4e-8ea0-f46ecdc22455"
      },
      "execution_count": null,
      "outputs": [
        {
          "output_type": "stream",
          "name": "stdout",
          "text": [
            "Model: \"model_55\"\n",
            "_________________________________________________________________\n",
            " Layer (type)                Output Shape              Param #   \n",
            "=================================================================\n",
            " conv2d_54_input (InputLaye  [(None, 28, 28, 1)]       0         \n",
            " r)                                                              \n",
            "                                                                 \n",
            " conv2d_54 (Conv2D)          (None, 28, 28, 20)        520       \n",
            "                                                                 \n",
            " activation_81 (Activation)  (None, 28, 28, 20)        0         \n",
            "                                                                 \n",
            " max_pooling2d_54 (MaxPooli  (None, 14, 14, 20)        0         \n",
            " ng2D)                                                           \n",
            "                                                                 \n",
            " conv2d_55 (Conv2D)          (None, 14, 14, 50)        25050     \n",
            "                                                                 \n",
            " activation_82 (Activation)  (None, 14, 14, 50)        0         \n",
            "                                                                 \n",
            " max_pooling2d_55 (MaxPooli  (None, 7, 7, 50)          0         \n",
            " ng2D)                                                           \n",
            "                                                                 \n",
            " flatten_27 (Flatten)        (None, 2450)              0         \n",
            "                                                                 \n",
            " dense_81 (Dense)            (None, 500)               1225500   \n",
            "                                                                 \n",
            " activation_83 (Activation)  (None, 500)               0         \n",
            "                                                                 \n",
            " dense_83 (Dense)            (None, 100)               50100     \n",
            "                                                                 \n",
            "=================================================================\n",
            "Total params: 1301170 (4.96 MB)\n",
            "Trainable params: 50100 (195.70 KB)\n",
            "Non-trainable params: 1251070 (4.77 MB)\n",
            "_________________________________________________________________\n",
            "112/112 [==============================] - 0s 2ms/step\n",
            "Accuracy:  0.9791783690452576\n",
            "Weighted F1:  0.9791788466934599\n",
            "Balanced Accuracy:  0.979488963596\n"
          ]
        }
      ]
    },
    {
      "cell_type": "code",
      "source": [
        "# Training on URDU Dataset\n",
        "img_rows, img_cols = 28 , 28\n",
        "input_shape = (img_rows, img_cols, 1)\n",
        "num_classes = 100\n",
        "loss = 'categorical_crossentropy'\n",
        "optimizer = Adam(learning_rate=0.01, clipnorm=0.001)\n",
        "metrics = ['accuracy']\n",
        "batch_size = 128\n",
        "epochs = 10\n",
        "\n",
        "checkpoint_dir = './URDU_LeNet_MNIST_MIX/'\n",
        "input_train_test_fn = '/content/drive/MyDrive/mnist_mix_all/Urdu_train_test.npz'\n",
        "\n",
        "# load data\n",
        "X_train, y_train, X_vali, y_vali, X_test, y_test = load_dataset_with_processing(input_train_test_fn, num_classes=100)\n",
        "\n",
        "train_fn(X_train, y_train, X_vali, y_vali, input_shape, num_classes, loss, optimizer, metrics, checkpoint_dir, batch_size, epochs)"
      ],
      "metadata": {
        "colab": {
          "base_uri": "https://localhost:8080/",
          "height": 1000
        },
        "id": "Fh6cwDeDssgL",
        "outputId": "51ab95db-6d97-4b15-8e87-caecfc76c36c"
      },
      "execution_count": null,
      "outputs": [
        {
          "output_type": "stream",
          "name": "stdout",
          "text": [
            "(5284, 28, 28, 1)\n",
            "(1322, 28, 28, 1)\n",
            "(1414, 28, 28, 1)\n",
            "Model: \"model_57\"\n",
            "_________________________________________________________________\n",
            " Layer (type)                Output Shape              Param #   \n",
            "=================================================================\n",
            " conv2d_56_input (InputLaye  [(None, 28, 28, 1)]       0         \n",
            " r)                                                              \n",
            "                                                                 \n",
            " conv2d_56 (Conv2D)          (None, 28, 28, 20)        520       \n",
            "                                                                 \n",
            " activation_84 (Activation)  (None, 28, 28, 20)        0         \n",
            "                                                                 \n",
            " max_pooling2d_56 (MaxPooli  (None, 14, 14, 20)        0         \n",
            " ng2D)                                                           \n",
            "                                                                 \n",
            " conv2d_57 (Conv2D)          (None, 14, 14, 50)        25050     \n",
            "                                                                 \n",
            " activation_85 (Activation)  (None, 14, 14, 50)        0         \n",
            "                                                                 \n",
            " max_pooling2d_57 (MaxPooli  (None, 7, 7, 50)          0         \n",
            " ng2D)                                                           \n",
            "                                                                 \n",
            " flatten_28 (Flatten)        (None, 2450)              0         \n",
            "                                                                 \n",
            " dense_84 (Dense)            (None, 500)               1225500   \n",
            "                                                                 \n",
            " activation_86 (Activation)  (None, 500)               0         \n",
            "                                                                 \n",
            " dense_86 (Dense)            (None, 100)               50100     \n",
            "                                                                 \n",
            "=================================================================\n",
            "Total params: 1301170 (4.96 MB)\n",
            "Trainable params: 50100 (195.70 KB)\n",
            "Non-trainable params: 1251070 (4.77 MB)\n",
            "_________________________________________________________________\n",
            "Epoch 1/10\n",
            "\n",
            "Epoch 1: val_accuracy improved from -inf to 0.93722, saving model to ./URDU_LeNet_MNIST_MIX/best_lenet.hdf5\n",
            "41/41 - 1s - loss: 0.9232 - accuracy: 0.8516 - val_loss: 0.3683 - val_accuracy: 0.9372 - 1s/epoch - 30ms/step\n",
            "Epoch 2/10\n"
          ]
        },
        {
          "output_type": "stream",
          "name": "stderr",
          "text": [
            "/usr/local/lib/python3.10/dist-packages/keras/src/engine/training.py:3103: UserWarning: You are saving your model as an HDF5 file via `model.save()`. This file format is considered legacy. We recommend using instead the native Keras format, e.g. `model.save('my_model.keras')`.\n",
            "  saving_api.save_model(\n"
          ]
        },
        {
          "output_type": "stream",
          "name": "stdout",
          "text": [
            "\n",
            "Epoch 2: val_accuracy did not improve from 0.93722\n",
            "41/41 - 0s - loss: 0.1461 - accuracy: 0.9646 - val_loss: 0.3427 - val_accuracy: 0.9327 - 274ms/epoch - 7ms/step\n",
            "Epoch 3/10\n",
            "\n",
            "Epoch 3: val_accuracy improved from 0.93722 to 0.94251, saving model to ./URDU_LeNet_MNIST_MIX/best_lenet.hdf5\n",
            "41/41 - 0s - loss: 0.1338 - accuracy: 0.9684 - val_loss: 0.3133 - val_accuracy: 0.9425 - 301ms/epoch - 7ms/step\n",
            "Epoch 4/10\n",
            "\n",
            "Epoch 4: val_accuracy improved from 0.94251 to 0.94554, saving model to ./URDU_LeNet_MNIST_MIX/best_lenet.hdf5\n",
            "41/41 - 0s - loss: 0.0925 - accuracy: 0.9750 - val_loss: 0.3566 - val_accuracy: 0.9455 - 347ms/epoch - 8ms/step\n",
            "Epoch 5/10\n",
            "\n",
            "Epoch 5: val_accuracy improved from 0.94554 to 0.95310, saving model to ./URDU_LeNet_MNIST_MIX/best_lenet.hdf5\n",
            "41/41 - 0s - loss: 0.1006 - accuracy: 0.9779 - val_loss: 0.3219 - val_accuracy: 0.9531 - 299ms/epoch - 7ms/step\n",
            "Epoch 6/10\n",
            "\n",
            "Epoch 6: val_accuracy improved from 0.95310 to 0.95386, saving model to ./URDU_LeNet_MNIST_MIX/best_lenet.hdf5\n",
            "41/41 - 0s - loss: 0.0834 - accuracy: 0.9836 - val_loss: 0.3904 - val_accuracy: 0.9539 - 310ms/epoch - 8ms/step\n",
            "Epoch 7/10\n",
            "\n",
            "Epoch 7: val_accuracy did not improve from 0.95386\n",
            "41/41 - 0s - loss: 0.0531 - accuracy: 0.9872 - val_loss: 0.4494 - val_accuracy: 0.9448 - 295ms/epoch - 7ms/step\n",
            "Epoch 8/10\n",
            "\n",
            "Epoch 8: val_accuracy improved from 0.95386 to 0.96142, saving model to ./URDU_LeNet_MNIST_MIX/best_lenet.hdf5\n",
            "41/41 - 0s - loss: 0.0617 - accuracy: 0.9851 - val_loss: 0.3937 - val_accuracy: 0.9614 - 317ms/epoch - 8ms/step\n",
            "Epoch 9/10\n",
            "\n",
            "Epoch 9: val_accuracy did not improve from 0.96142\n",
            "41/41 - 0s - loss: 0.0723 - accuracy: 0.9849 - val_loss: 0.4382 - val_accuracy: 0.9539 - 277ms/epoch - 7ms/step\n",
            "Epoch 10/10\n",
            "\n",
            "Epoch 10: val_accuracy improved from 0.96142 to 0.96369, saving model to ./URDU_LeNet_MNIST_MIX/best_lenet.hdf5\n",
            "41/41 - 0s - loss: 0.0704 - accuracy: 0.9849 - val_loss: 0.4615 - val_accuracy: 0.9637 - 344ms/epoch - 8ms/step\n"
          ]
        },
        {
          "output_type": "display_data",
          "data": {
            "text/plain": [
              "<Figure size 640x480 with 1 Axes>"
            ],
            "image/png": "[encoded data removed]"
          },
          "metadata": {}
        },
        {
          "output_type": "execute_result",
          "data": {
            "text/plain": [
              "<keras.src.engine.functional.Functional at 0x780cc40776a0>"
            ]
          },
          "metadata": {},
          "execution_count": 38
        }
      ]
    },
    {
      "cell_type": "code",
      "source": [
        "# Testing the saved model on URDU test data\n",
        "pretrained_weights = '/content/URDU_LeNet_MNIST_MIX/best_lenet.hdf5'\n",
        "accuracies = test_fn(X_test, y_test, input_shape, num_classes, loss, optimizer, metrics, pretrained_weights)\n",
        "print('Accuracy: ', accuracies[0])\n",
        "print('Weighted F1: ', accuracies[1])\n",
        "print('Balanced Accuracy: ', accuracies[2])"
      ],
      "metadata": {
        "colab": {
          "base_uri": "https://localhost:8080/"
        },
        "id": "GLy2eICzssOn",
        "outputId": "2daf50bd-bfbe-456b-9096-e700e82fd8dc"
      },
      "execution_count": null,
      "outputs": [
        {
          "output_type": "stream",
          "name": "stdout",
          "text": [
            "Model: \"model_59\"\n",
            "_________________________________________________________________\n",
            " Layer (type)                Output Shape              Param #   \n",
            "=================================================================\n",
            " conv2d_58_input (InputLaye  [(None, 28, 28, 1)]       0         \n",
            " r)                                                              \n",
            "                                                                 \n",
            " conv2d_58 (Conv2D)          (None, 28, 28, 20)        520       \n",
            "                                                                 \n",
            " activation_87 (Activation)  (None, 28, 28, 20)        0         \n",
            "                                                                 \n",
            " max_pooling2d_58 (MaxPooli  (None, 14, 14, 20)        0         \n",
            " ng2D)                                                           \n",
            "                                                                 \n",
            " conv2d_59 (Conv2D)          (None, 14, 14, 50)        25050     \n",
            "                                                                 \n",
            " activation_88 (Activation)  (None, 14, 14, 50)        0         \n",
            "                                                                 \n",
            " max_pooling2d_59 (MaxPooli  (None, 7, 7, 50)          0         \n",
            " ng2D)                                                           \n",
            "                                                                 \n",
            " flatten_29 (Flatten)        (None, 2450)              0         \n",
            "                                                                 \n",
            " dense_87 (Dense)            (None, 500)               1225500   \n",
            "                                                                 \n",
            " activation_89 (Activation)  (None, 500)               0         \n",
            "                                                                 \n",
            " dense_89 (Dense)            (None, 100)               50100     \n",
            "                                                                 \n",
            "=================================================================\n",
            "Total params: 1301170 (4.96 MB)\n",
            "Trainable params: 50100 (195.70 KB)\n",
            "Non-trainable params: 1251070 (4.77 MB)\n",
            "_________________________________________________________________\n",
            "45/45 [==============================] - 0s 2ms/step\n",
            "Accuracy:  0.9717114567756653\n",
            "Weighted F1:  0.9717128397208622\n",
            "Balanced Accuracy:  0.9702094362765361\n"
          ]
        }
      ]
    }
  ]
}